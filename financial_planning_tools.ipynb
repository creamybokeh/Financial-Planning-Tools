{
 "cells": [
  {
   "cell_type": "markdown",
   "metadata": {},
   "source": [
    "# Financial Planning with APIs and Simulations\n",
    "\n",
    "In this Challenge, you’ll create two financial analysis tools by using a single Jupyter notebook:\n",
    "\n",
    "Part 1: A financial planner for emergencies. The members will be able to use this tool to visualize their current savings. The members can then determine if they have enough reserves for an emergency fund.\n",
    "\n",
    "Part 2: A financial planner for retirement. This tool will forecast the performance of their retirement portfolio in 30 years. To do this, the tool will make an Alpaca API call via the Alpaca SDK to get historical price data for use in Monte Carlo simulations.\n",
    "\n",
    "You’ll use the information from the Monte Carlo simulation to answer questions about the portfolio in your Jupyter notebook.\n",
    "\n"
   ]
  },
  {
   "cell_type": "code",
   "execution_count": 48,
   "metadata": {},
   "outputs": [],
   "source": [
    "# Import the required libraries and dependencies\n",
    "import os\n",
    "import requests\n",
    "import json\n",
    "import pandas as pd\n",
    "from dotenv import load_dotenv\n",
    "import alpaca_trade_api as tradeapi\n",
    "from MCForecastTools import MCSimulation\n",
    "\n",
    "%matplotlib inline"
   ]
  },
  {
   "cell_type": "code",
   "execution_count": 49,
   "metadata": {},
   "outputs": [
    {
     "data": {
      "text/plain": [
       "True"
      ]
     },
     "execution_count": 49,
     "metadata": {},
     "output_type": "execute_result"
    }
   ],
   "source": [
    "# Load the environment variables from the .env file\n",
    "#by calling the load_dotenv function\n",
    "load_dotenv()"
   ]
  },
  {
   "cell_type": "markdown",
   "metadata": {},
   "source": [
    "## Part 1: Create a Financial Planner for Emergencies"
   ]
  },
  {
   "cell_type": "markdown",
   "metadata": {},
   "source": [
    "### Evaluate the Cryptocurrency Wallet by Using the Requests Library\n",
    "\n",
    "In this section, you’ll determine the current value of a member’s cryptocurrency wallet. You’ll collect the current prices for the Bitcoin and Ethereum cryptocurrencies by using the Python Requests library. For the prototype, you’ll assume that the member holds the 1.2 Bitcoins (BTC) and 5.3 Ethereum coins (ETH). To do all this, complete the following steps:\n",
    "\n",
    "1. Create a variable named `monthly_income`, and set its value to `12000`.\n",
    "\n",
    "2. Use the Requests library to get the current price (in US dollars) of Bitcoin (BTC) and Ethereum (ETH) by using the API endpoints that the starter code supplies.\n",
    "\n",
    "3. Navigate the JSON response object to access the current price of each coin, and store each in a variable.\n",
    "\n",
    "    > **Hint** Note the specific identifier for each cryptocurrency in the API JSON response. The Bitcoin identifier is `1`, and the Ethereum identifier is `1027`.\n",
    "\n",
    "4. Calculate the value, in US dollars, of the current amount of each cryptocurrency and of the entire cryptocurrency wallet.\n",
    "\n"
   ]
  },
  {
   "cell_type": "code",
   "execution_count": 50,
   "metadata": {},
   "outputs": [],
   "source": [
    "# The current number of coins for each cryptocurrency asset held in the portfolio.\n",
    "btc_coins = 1.2\n",
    "eth_coins = 5.3"
   ]
  },
  {
   "cell_type": "markdown",
   "metadata": {},
   "source": [
    "#### Step 1: Create a variable named `monthly_income`, and set its value to `12000`."
   ]
  },
  {
   "cell_type": "code",
   "execution_count": 51,
   "metadata": {},
   "outputs": [],
   "source": [
    "# The monthly amount for the member's household income\n",
    "monthly_income = 12000\n"
   ]
  },
  {
   "cell_type": "markdown",
   "metadata": {},
   "source": [
    "#### Review the endpoint URLs for the API calls to Free Crypto API in order to get the current pricing information for both BTC and ETH."
   ]
  },
  {
   "cell_type": "code",
   "execution_count": 52,
   "metadata": {},
   "outputs": [],
   "source": [
    "# The Free Crypto API Call endpoint URLs for the held cryptocurrency assets\n",
    "btc_url = \"https://api.alternative.me/v2/ticker/Bitcoin/?convert=USD\"\n",
    "eth_url = \"https://api.alternative.me/v2/ticker/Ethereum/?convert=USD\""
   ]
  },
  {
   "cell_type": "markdown",
   "metadata": {},
   "source": [
    "#### Step 2. Use the Requests library to get the current price (in US dollars) of Bitcoin (BTC) and Ethereum (ETH) by using the API endpoints that the starter code supplied."
   ]
  },
  {
   "cell_type": "code",
   "execution_count": 53,
   "metadata": {},
   "outputs": [
    {
     "name": "stdout",
     "output_type": "stream",
     "text": [
      "{\n",
      "      \"data\": {\n",
      "            \"1\": {\n",
      "                  \"circulating_supply\": 19112662,\n",
      "                  \"id\": 1,\n",
      "                  \"last_updated\": 1659674970,\n",
      "                  \"max_supply\": 21000000,\n",
      "                  \"name\": \"Bitcoin\",\n",
      "                  \"quotes\": {\n",
      "                        \"USD\": {\n",
      "                              \"market_cap\": 442952687864,\n",
      "                              \"percent_change_1h\": -0.106168184584229,\n",
      "                              \"percent_change_24h\": 0.0741696091488278,\n",
      "                              \"percent_change_7d\": -2.81333563332983,\n",
      "                              \"percentage_change_1h\": -0.106168184584229,\n",
      "                              \"percentage_change_24h\": 0.0741696091488278,\n",
      "                              \"percentage_change_7d\": -2.81333563332983,\n",
      "                              \"price\": 23152.0,\n",
      "                              \"volume_24h\": 24058124395\n",
      "                        }\n",
      "                  },\n",
      "                  \"rank\": 1,\n",
      "                  \"symbol\": \"BTC\",\n",
      "                  \"total_supply\": 19112662,\n",
      "                  \"website_slug\": \"bitcoin\"\n",
      "            }\n",
      "      },\n",
      "      \"metadata\": {\n",
      "            \"error\": null,\n",
      "            \"num_cryptocurrencies\": 3116,\n",
      "            \"timestamp\": 1659674970\n",
      "      }\n",
      "}\n"
     ]
    }
   ],
   "source": [
    "# Using the Python requests library, make an API call to access the current price of BTC\n",
    "btc_response = requests.get(btc_url).json()\n",
    "\n",
    "# Use the json.dumps function to review the response data from the API call\n",
    "# Use the indent and sort_keys parameters to make the response object readable\n",
    "print(json.dumps(btc_response, indent=6, sort_keys=True))\n"
   ]
  },
  {
   "cell_type": "code",
   "execution_count": 54,
   "metadata": {},
   "outputs": [
    {
     "name": "stdout",
     "output_type": "stream",
     "text": [
      "{\n",
      "      \"data\": {\n",
      "            \"1027\": {\n",
      "                  \"circulating_supply\": 119967015,\n",
      "                  \"id\": 1027,\n",
      "                  \"last_updated\": 1659674940,\n",
      "                  \"max_supply\": 119966087,\n",
      "                  \"name\": \"Ethereum\",\n",
      "                  \"quotes\": {\n",
      "                        \"USD\": {\n",
      "                              \"market_cap\": 199004054556,\n",
      "                              \"percent_change_1h\": -0.20039413643815,\n",
      "                              \"percent_change_24h\": 0.0278199673731765,\n",
      "                              \"percent_change_7d\": -3.8549858133101,\n",
      "                              \"percentage_change_1h\": -0.20039413643815,\n",
      "                              \"percentage_change_24h\": 0.0278199673731765,\n",
      "                              \"percentage_change_7d\": -3.8549858133101,\n",
      "                              \"price\": 1657.11,\n",
      "                              \"volume_24h\": 14533918069\n",
      "                        }\n",
      "                  },\n",
      "                  \"rank\": 2,\n",
      "                  \"symbol\": \"ETH\",\n",
      "                  \"total_supply\": 119967015,\n",
      "                  \"website_slug\": \"ethereum\"\n",
      "            }\n",
      "      },\n",
      "      \"metadata\": {\n",
      "            \"error\": null,\n",
      "            \"num_cryptocurrencies\": 3116,\n",
      "            \"timestamp\": 1659674940\n",
      "      }\n",
      "}\n"
     ]
    }
   ],
   "source": [
    "# Using the Python requests library, make an API call to access the current price ETH\n",
    "eth_response = requests.get(eth_url).json()\n",
    "\n",
    "# Use the json.dumps function to review the response data from the API call\n",
    "# Use the indent and sort_keys parameters to make the response object readable\n",
    "print(json.dumps(eth_response, indent=6, sort_keys=True))"
   ]
  },
  {
   "cell_type": "markdown",
   "metadata": {},
   "source": [
    "#### Step 3: Navigate the JSON response object to access the current price of each coin, and store each in a variable."
   ]
  },
  {
   "cell_type": "code",
   "execution_count": 55,
   "metadata": {},
   "outputs": [
    {
     "name": "stdout",
     "output_type": "stream",
     "text": [
      "The price for BTC is $ 23152.00\n"
     ]
    }
   ],
   "source": [
    "# Navigate the BTC response object to access the current price of BTC\n",
    "btc_price = btc_response['data']['1']['quotes']['USD']['price']\n",
    "\n",
    "# Print the current price of BTC\n",
    "print(f\"The price for BTC is ${btc_price: .02f}\")"
   ]
  },
  {
   "cell_type": "code",
   "execution_count": 56,
   "metadata": {},
   "outputs": [
    {
     "name": "stdout",
     "output_type": "stream",
     "text": [
      "The price for ETH is $ 1657.11\n"
     ]
    }
   ],
   "source": [
    "# Navigate the BTC response object to access the current price of ETH\n",
    "eth_price = eth_response['data']['1027']['quotes']['USD']['price']\n",
    "\n",
    "# Print the current price of ETH\n",
    "print(f\"The price for ETH is ${eth_price: .02f}\")"
   ]
  },
  {
   "cell_type": "markdown",
   "metadata": {},
   "source": [
    "### Step 4: Calculate the value, in US dollars, of the current amount of each cryptocurrency and of the entire cryptocurrency wallet."
   ]
  },
  {
   "cell_type": "code",
   "execution_count": 57,
   "metadata": {},
   "outputs": [
    {
     "name": "stdout",
     "output_type": "stream",
     "text": [
      "You have $ 27782.40 worth of BTC.\n"
     ]
    }
   ],
   "source": [
    "# Compute the current value of the BTC holding \n",
    "btc_value = btc_price * 1.2\n",
    "\n",
    "# Print current value of your holding in BTC\n",
    "print(f\"You have ${btc_value: .2f} worth of BTC.\")\n"
   ]
  },
  {
   "cell_type": "code",
   "execution_count": 58,
   "metadata": {},
   "outputs": [
    {
     "name": "stdout",
     "output_type": "stream",
     "text": [
      "You have $ 8782.68 worth of ETH.\n"
     ]
    }
   ],
   "source": [
    "# Compute the current value of the ETH holding \n",
    "eth_value = eth_price * 5.3\n",
    "\n",
    "# Print current value of your holding in ETH\n",
    "print(f\"You have ${eth_value: .2f} worth of ETH.\")\n"
   ]
  },
  {
   "cell_type": "code",
   "execution_count": 59,
   "metadata": {},
   "outputs": [
    {
     "name": "stdout",
     "output_type": "stream",
     "text": [
      "The total value of crytpto currency in your wallet is: $ 36565.08\n"
     ]
    }
   ],
   "source": [
    "# Compute the total value of the cryptocurrency wallet\n",
    "# Add the value of the BTC holding to the value of the ETH holding\n",
    "total_crypto_wallet = (btc_value + eth_value)\n",
    "\n",
    "# Print current cryptocurrency wallet balance\n",
    "print(f\"The total value of crytpto currency in your wallet is: ${total_crypto_wallet: .2f}\")\n"
   ]
  },
  {
   "cell_type": "markdown",
   "metadata": {},
   "source": [
    "### Evaluate the Stock and Bond Holdings by Using the Alpaca SDK\n",
    "\n",
    "In this section, you’ll determine the current value of a member’s stock and bond holdings. You’ll make an API call to Alpaca via the Alpaca SDK to get the current closing prices of the SPDR S&P 500 ETF Trust (ticker: SPY) and of the iShares Core US Aggregate Bond ETF (ticker: AGG). For the prototype, assume that the member holds 110 shares of SPY, which represents the stock portion of their portfolio, and 200 shares of AGG, which represents the bond portion. To do all this, complete the following steps:\n",
    "\n",
    "1. In the `Starter_Code` folder, create an environment file (`.env`) to store the values of your Alpaca API key and Alpaca secret key.\n",
    "\n",
    "2. Set the variables for the Alpaca API and secret keys. Using the Alpaca SDK, create the Alpaca `tradeapi.REST` object. In this object, include the parameters for the Alpaca API key, the secret key, and the version number.\n",
    "\n",
    "3. Set the following parameters for the Alpaca API call:\n",
    "\n",
    "    - `tickers`: Use the tickers for the member’s stock and bond holdings.\n",
    "\n",
    "    - `timeframe`: Use a time frame of one day.\n",
    "\n",
    "    - `start_date` and `end_date`: Use the same date for these parameters, and format them with the date of the previous weekday (or `2020-08-07`). This is because you want the one closing price for the most-recent trading day.\n",
    "\n",
    "4. Get the current closing prices for `SPY` and `AGG` by using the Alpaca `get_bars` function. Format the response as a Pandas DataFrame by including the `df` property at the end of the `get_bars` function.\n",
    "\n",
    "5. Navigating the Alpaca response DataFrame, select the `SPY` and `AGG` closing prices, and store them as variables.\n",
    "\n",
    "6. Calculate the value, in US dollars, of the current amount of shares in each of the stock and bond portions of the portfolio, and print the results.\n"
   ]
  },
  {
   "cell_type": "markdown",
   "metadata": {},
   "source": [
    "#### Review the total number of shares held in both (SPY) and (AGG)."
   ]
  },
  {
   "cell_type": "code",
   "execution_count": 60,
   "metadata": {},
   "outputs": [],
   "source": [
    "# Current amount of shares held in both the stock (SPY) and bond (AGG) portion of the portfolio.\n",
    "spy_shares = 110\n",
    "agg_shares = 200\n"
   ]
  },
  {
   "cell_type": "markdown",
   "metadata": {},
   "source": [
    "#### Step 1: In the `Starter_Code` folder, create an environment file (`.env`) to store the values of your Alpaca API key and Alpaca secret key."
   ]
  },
  {
   "cell_type": "markdown",
   "metadata": {},
   "source": [
    "#### Step 2: Set the variables for the Alpaca API and secret keys. Using the Alpaca SDK, create the Alpaca `tradeapi.REST` object. In this object, include the parameters for the Alpaca API key, the secret key, and the version number."
   ]
  },
  {
   "cell_type": "code",
   "execution_count": 61,
   "metadata": {},
   "outputs": [],
   "source": [
    "# Set the variables for the Alpaca API and secret keys\n",
    "alpaca_api_key = os.getenv(\"ALPACA_API_KEY\")\n",
    "alpaca_secret_key = os.getenv(\"ALPACA_SECRET_KEY\")\n",
    "\n",
    "# Create the Alpaca tradeapi.REST object\n",
    "alpaca = tradeapi.REST(\n",
    "    alpaca_api_key,\n",
    "    alpaca_secret_key,\n",
    "    api_version=\"v2\")"
   ]
  },
  {
   "cell_type": "markdown",
   "metadata": {},
   "source": [
    "#### Step 3: Set the following parameters for the Alpaca API call:\n",
    "\n",
    "- `tickers`: Use the tickers for the member’s stock and bond holdings.\n",
    "\n",
    "- `timeframe`: Use a time frame of one day.\n",
    "\n",
    "- `start_date` and `end_date`: Use the same date for these parameters, and format them with the date of the previous weekday (or `2020-08-07`). This is because you want the one closing price for the most-recent trading day.\n"
   ]
  },
  {
   "cell_type": "code",
   "execution_count": 62,
   "metadata": {},
   "outputs": [],
   "source": [
    "# Set the tickers for both the bond and stock portion of the portfolio\n",
    "tickers = [\"SPY\", \"AGG\"]\n",
    "\n",
    "# Set timeframe to 1Day\n",
    "timeframe = \"1Day\"\n",
    "\n",
    "# Format current date as ISO format\n",
    "# Set both the start and end date at the date of your prior weekday \n",
    "# This will give you the closing price of the previous trading day\n",
    "# Alternatively you can use a start and end date of 2020-08-07\n",
    "start_date = pd.Timestamp(\"2022-08-03\", tz=\"America/New_York\").isoformat()\n",
    "end_date = pd.Timestamp(\"2022-08-03\", tz=\"America/New_York\").isoformat()\n"
   ]
  },
  {
   "cell_type": "markdown",
   "metadata": {},
   "source": [
    "#### Step 4: Get the current closing prices for `SPY` and `AGG` by using the Alpaca `get_bars` function. Format the response as a Pandas DataFrame by including the `df` property at the end of the `get_bars` function."
   ]
  },
  {
   "cell_type": "code",
   "execution_count": 63,
   "metadata": {},
   "outputs": [
    {
     "data": {
      "text/html": [
       "<div>\n",
       "<style scoped>\n",
       "    .dataframe tbody tr th:only-of-type {\n",
       "        vertical-align: middle;\n",
       "    }\n",
       "\n",
       "    .dataframe tbody tr th {\n",
       "        vertical-align: top;\n",
       "    }\n",
       "\n",
       "    .dataframe thead tr th {\n",
       "        text-align: left;\n",
       "    }\n",
       "\n",
       "    .dataframe thead tr:last-of-type th {\n",
       "        text-align: right;\n",
       "    }\n",
       "</style>\n",
       "<table border=\"1\" class=\"dataframe\">\n",
       "  <thead>\n",
       "    <tr>\n",
       "      <th></th>\n",
       "      <th colspan=\"7\" halign=\"left\">AGG</th>\n",
       "      <th colspan=\"7\" halign=\"left\">SPY</th>\n",
       "    </tr>\n",
       "    <tr>\n",
       "      <th></th>\n",
       "      <th>open</th>\n",
       "      <th>high</th>\n",
       "      <th>low</th>\n",
       "      <th>close</th>\n",
       "      <th>volume</th>\n",
       "      <th>trade_count</th>\n",
       "      <th>vwap</th>\n",
       "      <th>open</th>\n",
       "      <th>high</th>\n",
       "      <th>low</th>\n",
       "      <th>close</th>\n",
       "      <th>volume</th>\n",
       "      <th>trade_count</th>\n",
       "      <th>vwap</th>\n",
       "    </tr>\n",
       "    <tr>\n",
       "      <th>timestamp</th>\n",
       "      <th></th>\n",
       "      <th></th>\n",
       "      <th></th>\n",
       "      <th></th>\n",
       "      <th></th>\n",
       "      <th></th>\n",
       "      <th></th>\n",
       "      <th></th>\n",
       "      <th></th>\n",
       "      <th></th>\n",
       "      <th></th>\n",
       "      <th></th>\n",
       "      <th></th>\n",
       "      <th></th>\n",
       "    </tr>\n",
       "  </thead>\n",
       "  <tbody>\n",
       "    <tr>\n",
       "      <th>2022-08-03 04:00:00+00:00</th>\n",
       "      <td>103.03</td>\n",
       "      <td>103.64</td>\n",
       "      <td>102.72</td>\n",
       "      <td>103.62</td>\n",
       "      <td>6254853</td>\n",
       "      <td>23383</td>\n",
       "      <td>103.276553</td>\n",
       "      <td>410.4</td>\n",
       "      <td>415.68</td>\n",
       "      <td>410.0</td>\n",
       "      <td>414.45</td>\n",
       "      <td>67573063</td>\n",
       "      <td>463932</td>\n",
       "      <td>413.267159</td>\n",
       "    </tr>\n",
       "  </tbody>\n",
       "</table>\n",
       "</div>"
      ],
      "text/plain": [
       "                              AGG                                   \\\n",
       "                             open    high     low   close   volume   \n",
       "timestamp                                                            \n",
       "2022-08-03 04:00:00+00:00  103.03  103.64  102.72  103.62  6254853   \n",
       "\n",
       "                                                     SPY                 \\\n",
       "                          trade_count        vwap   open    high    low   \n",
       "timestamp                                                                 \n",
       "2022-08-03 04:00:00+00:00       23383  103.276553  410.4  415.68  410.0   \n",
       "\n",
       "                                                                     \n",
       "                            close    volume trade_count        vwap  \n",
       "timestamp                                                            \n",
       "2022-08-03 04:00:00+00:00  414.45  67573063      463932  413.267159  "
      ]
     },
     "execution_count": 63,
     "metadata": {},
     "output_type": "execute_result"
    }
   ],
   "source": [
    "# Use the Alpaca get_bars function to get current closing prices the portfolio\n",
    "# Be sure to set the `df` property after the function to format the response object as a DataFrame\n",
    "df_stocks = alpaca.get_bars(\n",
    "    tickers,\n",
    "    timeframe,\n",
    "    start = start_date,\n",
    "    end = end_date\n",
    ").df\n",
    "\n",
    "# Reorganize the DataFrame\n",
    "# Separate ticker data\n",
    "AGG = df_stocks[df_stocks['symbol']=='AGG'].drop('symbol', axis=1)\n",
    "SPY = df_stocks[df_stocks['symbol']=='SPY'].drop('symbol', axis=1)\n",
    "\n",
    "# Concatenate the ticker DataFrames\n",
    "df_stocks = pd.concat([AGG,SPY], axis=1, keys=['AGG','SPY'])\n",
    "\n",
    "# Review the first 5 rows of the Alpaca DataFrame\n",
    "df_stocks.head()"
   ]
  },
  {
   "cell_type": "markdown",
   "metadata": {},
   "source": [
    "#### Step 5: Navigating the Alpaca response DataFrame, select the `SPY` and `AGG` closing prices, and store them as variables."
   ]
  },
  {
   "cell_type": "code",
   "execution_count": 64,
   "metadata": {},
   "outputs": [
    {
     "data": {
      "text/plain": [
       "timestamp\n",
       "2022-08-03 04:00:00+00:00    103.62\n",
       "Name: close, dtype: float64"
      ]
     },
     "execution_count": 64,
     "metadata": {},
     "output_type": "execute_result"
    }
   ],
   "source": [
    "# Access the closing price for AGG from the Alpaca DataFrame\n",
    "# Converting the value to a floating point number\n",
    "agg_close_price = df_stocks['AGG']['close']\n",
    "# agg_close_price_df = pd.DataFrame()\n",
    "\n",
    "# agg_close_price_df['AGG'] = df_stocks['AGG']['close']\n",
    "\n",
    "# agg_close_price_df.index = agg_close_price_df.index.date\n",
    "\n",
    "# Print the AGG closing price\n",
    "agg_close_price"
   ]
  },
  {
   "cell_type": "code",
   "execution_count": 65,
   "metadata": {},
   "outputs": [
    {
     "data": {
      "text/plain": [
       "timestamp\n",
       "2022-08-03 04:00:00+00:00    414.45\n",
       "Name: close, dtype: float64"
      ]
     },
     "execution_count": 65,
     "metadata": {},
     "output_type": "execute_result"
    }
   ],
   "source": [
    "# Access the closing price for SPY from the Alpaca DataFrame\n",
    "# Converting the value to a floating point number\n",
    "spy_close_price = df_stocks['SPY']['close']\n",
    "# spy_close_price_df = pd.DataFrame()\n",
    "\n",
    "# spy_close_price_df['SPY'] = df_stocks['SPY']['close']\n",
    "\n",
    "# spy_close_price_df.index = spy_close_price_df.index.date\n",
    "\n",
    "# Print the SPY closing price\n",
    "spy_close_price\n"
   ]
  },
  {
   "cell_type": "markdown",
   "metadata": {},
   "source": [
    "#### Step 6: Calculate the value, in US dollars, of the current amount of shares in each of the stock and bond portions of the portfolio, and print the results."
   ]
  },
  {
   "cell_type": "code",
   "execution_count": 66,
   "metadata": {},
   "outputs": [
    {
     "name": "stdout",
     "output_type": "stream",
     "text": [
      "The current total value of your AGG bond holdings are: $ 20724\n"
     ]
    }
   ],
   "source": [
    "# Calculate the current value of the bond portion of the portfolio\n",
    "agg_value = (agg_shares * agg_close_price)\n",
    "\n",
    "# Print the current value of the bond portfolio\n",
    "print(\"The current total value of your AGG bond holdings are: $\",int(agg_value))\n"
   ]
  },
  {
   "cell_type": "code",
   "execution_count": 67,
   "metadata": {},
   "outputs": [
    {
     "name": "stdout",
     "output_type": "stream",
     "text": [
      "The current total value of your SPY stock holdings are: $ 45589\n"
     ]
    }
   ],
   "source": [
    "# Calculate the current value of the stock portion of the portfolio\n",
    "spy_value = (spy_shares * spy_close_price)\n",
    "\n",
    "# Print the current value of the stock portfolio\n",
    "print(\"The current total value of your SPY stock holdings are: $\",int(spy_value))\n"
   ]
  },
  {
   "cell_type": "code",
   "execution_count": 68,
   "metadata": {},
   "outputs": [
    {
     "name": "stdout",
     "output_type": "stream",
     "text": [
      "The current balance of your total stock and bond portfolio is: $ 66313\n"
     ]
    }
   ],
   "source": [
    "# Calculate the total value of the stock and bond portion of the portfolio\n",
    "total_stocks_bonds = (spy_value + agg_value)\n",
    "\n",
    "# Print the current balance of the stock and bond portion of the portfolio\n",
    "print(\"The current balance of your total stock and bond portfolio is: $\", int(total_stocks_bonds))\n"
   ]
  },
  {
   "cell_type": "code",
   "execution_count": 69,
   "metadata": {},
   "outputs": [
    {
     "name": "stdout",
     "output_type": "stream",
     "text": [
      "The total value of your entire portfolio is: $ 102878\n"
     ]
    }
   ],
   "source": [
    "# Calculate the total value of the member's entire savings portfolio\n",
    "# Add the value of the cryptocurrency walled to the value of the total stocks and bonds\n",
    "\n",
    "total_portfolio = ((total_stocks_bonds) + (total_crypto_wallet))\n",
    "\n",
    "# Print current cryptocurrency wallet balance\n",
    "print(\"The total value of your entire portfolio is: $\",\n",
    "      int(total_portfolio)\n",
    "     )"
   ]
  },
  {
   "cell_type": "markdown",
   "metadata": {},
   "source": [
    "### Evaluate the Emergency Fund\n",
    "\n",
    "In this section, you’ll use the valuations for the cryptocurrency wallet and for the stock and bond portions of the portfolio to determine if the credit union member has enough savings to build an emergency fund into their financial plan. To do this, complete the following steps:\n",
    "\n",
    "1. Create a Python list named `savings_data` that has two elements. The first element contains the total value of the cryptocurrency wallet. The second element contains the total value of the stock and bond portions of the portfolio.\n",
    "\n",
    "2. Use the `savings_data` list to create a Pandas DataFrame named `savings_df`, and then display this DataFrame. The function to create the DataFrame should take the following three parameters:\n",
    "\n",
    "    - `savings_data`: Use the list that you just created.\n",
    "\n",
    "    - `columns`: Set this parameter equal to a Python list with a single value called `amount`.\n",
    "\n",
    "    - `index`: Set this parameter equal to a Python list with the values of `crypto` and `stock/bond`.\n",
    "\n",
    "3. Use the `savings_df` DataFrame to plot a pie chart that visualizes the composition of the member’s portfolio. The y-axis of the pie chart uses `amount`. Be sure to add a title.\n",
    "\n",
    "4. Using Python, determine if the current portfolio has enough to create an emergency fund as part of the member’s financial plan. Ideally, an emergency fund should equal to three times the member’s monthly income. To do this, implement the following steps:\n",
    "\n",
    "    1. Create a variable named `emergency_fund_value`, and set it equal to three times the value of the member’s `monthly_income` of $12000. (You set this earlier in Part 1).\n",
    "\n",
    "    2. Create a series of three if statements to determine if the member’s total portfolio is large enough to fund the emergency portfolio:\n",
    "\n",
    "        1. If the total portfolio value is greater than the emergency fund value, display a message congratulating the member for having enough money in this fund.\n",
    "\n",
    "        2. Else if the total portfolio value is equal to the emergency fund value, display a message congratulating the member on reaching this important financial goal.\n",
    "\n",
    "        3. Else the total portfolio is less than the emergency fund value, so display a message showing how many dollars away the member is from reaching the goal. (Subtract the total portfolio value from the emergency fund value.)\n"
   ]
  },
  {
   "cell_type": "markdown",
   "metadata": {},
   "source": [
    "#### Step 1: Create a Python list named `savings_data` that has two elements. The first element contains the total value of the cryptocurrency wallet. The second element contains the total value of the stock and bond portions of the portfolio."
   ]
  },
  {
   "cell_type": "code",
   "execution_count": 70,
   "metadata": {},
   "outputs": [
    {
     "data": {
      "text/plain": [
       "[36565.083, 66313]"
      ]
     },
     "execution_count": 70,
     "metadata": {},
     "output_type": "execute_result"
    }
   ],
   "source": [
    "# Consolidate financial assets data into a Python list\n",
    "savings_data = [total_crypto_wallet, int(total_stocks_bonds)]\n",
    "# Review the Python list savings_data\n",
    "savings_data\n",
    "    "
   ]
  },
  {
   "cell_type": "markdown",
   "metadata": {},
   "source": [
    "#### Step 2: Use the `savings_data` list to create a Pandas DataFrame named `savings_df`, and then display this DataFrame. The function to create the DataFrame should take the following three parameters:\n",
    "\n",
    "- `savings_data`: Use the list that you just created.\n",
    "\n",
    "- `columns`: Set this parameter equal to a Python list with a single value called `amount`.\n",
    "\n",
    "- `index`: Set this parameter equal to a Python list with the values of `crypto` and `stock/bond`.\n"
   ]
  },
  {
   "cell_type": "code",
   "execution_count": 71,
   "metadata": {},
   "outputs": [
    {
     "data": {
      "text/html": [
       "<div>\n",
       "<style scoped>\n",
       "    .dataframe tbody tr th:only-of-type {\n",
       "        vertical-align: middle;\n",
       "    }\n",
       "\n",
       "    .dataframe tbody tr th {\n",
       "        vertical-align: top;\n",
       "    }\n",
       "\n",
       "    .dataframe thead th {\n",
       "        text-align: right;\n",
       "    }\n",
       "</style>\n",
       "<table border=\"1\" class=\"dataframe\">\n",
       "  <thead>\n",
       "    <tr style=\"text-align: right;\">\n",
       "      <th></th>\n",
       "      <th>amount</th>\n",
       "    </tr>\n",
       "  </thead>\n",
       "  <tbody>\n",
       "    <tr>\n",
       "      <th>crypto</th>\n",
       "      <td>36565.083</td>\n",
       "    </tr>\n",
       "    <tr>\n",
       "      <th>stock/bond</th>\n",
       "      <td>66313.000</td>\n",
       "    </tr>\n",
       "  </tbody>\n",
       "</table>\n",
       "</div>"
      ],
      "text/plain": [
       "               amount\n",
       "crypto      36565.083\n",
       "stock/bond  66313.000"
      ]
     },
     "execution_count": 71,
     "metadata": {},
     "output_type": "execute_result"
    }
   ],
   "source": [
    "# Create a Pandas DataFrame called savings_df \n",
    "savings_df = pd.DataFrame(savings_data, columns=['amount'], index=['crypto','stock/bond'])\n",
    "\n",
    "    \n",
    "\n",
    "# Display the savings_df DataFrame\n",
    "savings_df"
   ]
  },
  {
   "cell_type": "markdown",
   "metadata": {},
   "source": [
    "#### Step 3: Use the `savings_df` DataFrame to plot a pie chart that visualizes the composition of the member’s portfolio. The y-axis of the pie chart uses `amount`. Be sure to add a title."
   ]
  },
  {
   "cell_type": "code",
   "execution_count": 72,
   "metadata": {},
   "outputs": [
    {
     "data": {
      "text/plain": [
       "array([<AxesSubplot:ylabel='amount'>], dtype=object)"
      ]
     },
     "execution_count": 72,
     "metadata": {},
     "output_type": "execute_result"
    },
    {
     "data": {
      "image/png": "[encoded data removed]",
      "text/plain": [
       "<Figure size 432x288 with 1 Axes>"
      ]
     },
     "metadata": {},
     "output_type": "display_data"
    }
   ],
   "source": [
    "# Plot the total value of the member's portfolio (crypto and stock/bond) in a pie chart\n",
    "\n",
    "savings_df.plot.pie(subplots=True, title=\"The Composition of Your Total Portfolio\", radius=1.3, autopct='%1.1f%%')\n",
    "\n"
   ]
  },
  {
   "cell_type": "markdown",
   "metadata": {},
   "source": [
    "#### Step 4: Using Python, determine if the current portfolio has enough to create an emergency fund as part of the member’s financial plan. Ideally, an emergency fund should equal to three times the member’s monthly income. To do this, implement the following steps:\n",
    "\n",
    "Step 1. Create a variable named `emergency_fund_value`, and set it equal to three times the value of the member’s `monthly_income` of 12000. (You set this earlier in Part 1).\n",
    "\n",
    "Step 2. Create a series of three if statements to determine if the member’s total portfolio is large enough to fund the emergency portfolio:\n",
    "\n",
    "* If the total portfolio value is greater than the emergency fund value, display a message congratulating the member for having enough money in this fund.\n",
    "\n",
    "* Else if the total portfolio value is equal to the emergency fund value, display a message congratulating the member on reaching this important financial goal.\n",
    "\n",
    "* Else the total portfolio is less than the emergency fund value, so display a message showing how many dollars away the member is from reaching the goal. (Subtract the total portfolio value from the emergency fund value.)\n"
   ]
  },
  {
   "cell_type": "markdown",
   "metadata": {},
   "source": [
    "##### Step 4-1: Create a variable named `emergency_fund_value`, and set it equal to three times the value of the member’s `monthly_income` of 12000. (You set this earlier in Part 1)."
   ]
  },
  {
   "cell_type": "code",
   "execution_count": 73,
   "metadata": {},
   "outputs": [],
   "source": [
    "# Create a variable named emergency_fund_value\n",
    "emergency_fund_value = monthly_income\n"
   ]
  },
  {
   "cell_type": "markdown",
   "metadata": {},
   "source": [
    "##### Step 4-2: Create a series of three if statements to determine if the member’s total portfolio is large enough to fund the emergency portfolio:\n",
    "\n",
    "* If the total portfolio value is greater than the emergency fund value, display a message congratulating the member for having enough money in this fund.\n",
    "\n",
    "* Else if the total portfolio value is equal to the emergency fund value, display a message congratulating the member on reaching this important financial goal.\n",
    "\n",
    "* Else the total portfolio is less than the emergency fund value, so display a message showing how many dollars away the member is from reaching the goal. (Subtract the total portfolio value from the emergency fund value.)"
   ]
  },
  {
   "cell_type": "code",
   "execution_count": 74,
   "metadata": {},
   "outputs": [
    {
     "name": "stdout",
     "output_type": "stream",
     "text": [
      "Congratulations. You have enough money in this fund.\n"
     ]
    }
   ],
   "source": [
    "# Evaluate the possibility of creating an emergency fund with 3 conditions:\n",
    "if (int(total_portfolio) > emergency_fund_value):\n",
    "    print(\"Congratulations. You have enough money in this fund.\")\n",
    "elif (int(total_portfolio) == emergency_fund_value):\n",
    "    print(\"Congratulations. You have been working hard and have reached this important financial goal.\")\n",
    "else: \n",
    "    (total_portfolio < emergency_fund_value)\n",
    "    print(\"You are\",(int(total_portfolio) - emergency_fund_value),\"away from reaching your financial goal.\")\n"
   ]
  },
  {
   "cell_type": "markdown",
   "metadata": {},
   "source": [
    "## Part 2: Create a Financial Planner for Retirement"
   ]
  },
  {
   "cell_type": "markdown",
   "metadata": {},
   "source": [
    "### Create the Monte Carlo Simulation\n",
    "\n",
    "In this section, you’ll use the MCForecastTools library to create a Monte Carlo simulation for the member’s savings portfolio. To do this, complete the following steps:\n",
    "\n",
    "1. Make an API call via the Alpaca SDK to get 3 years of historical closing prices for a traditional 60/40 portfolio split: 60% stocks (SPY) and 40% bonds (AGG).\n",
    "\n",
    "2. Run a Monte Carlo simulation of 500 samples and 30 years for the 60/40 portfolio, and then plot the results.The following image shows the overlay line plot resulting from a simulation with these characteristics. However, because a random number generator is used to run each live Monte Carlo simulation, your image will differ slightly from this exact image:\n",
    "\n",
    "![A screenshot depicts the resulting plot.](Images/5-4-monte-carlo-line-plot.png)\n",
    "\n",
    "3. Plot the probability distribution of the Monte Carlo simulation. Plot the probability distribution of the Monte Carlo simulation. The following image shows the histogram plot resulting from a simulation with these characteristics. However, because a random number generator is used to run each live Monte Carlo simulation, your image will differ slightly from this exact image:\n",
    "\n",
    "![A screenshot depicts the histogram plot.](Images/5-4-monte-carlo-histogram.png)\n",
    "\n",
    "4. Generate the summary statistics for the Monte Carlo simulation.\n",
    "\n"
   ]
  },
  {
   "cell_type": "markdown",
   "metadata": {},
   "source": [
    "#### Step 1: Make an API call via the Alpaca SDK to get 3 years of historical closing prices for a traditional 60/40 portfolio split: 60% stocks (SPY) and 40% bonds (AGG)."
   ]
  },
  {
   "cell_type": "code",
   "execution_count": 75,
   "metadata": {},
   "outputs": [],
   "source": [
    "# Set start and end dates of 3 years back from your current date\n",
    "# Alternatively, you can use an end date of 2020-08-07 and work 3 years back from that date \n",
    "start_date = pd.Timestamp(\"2019-08-03\", tz=\"America/New_York\").isoformat()\n",
    "end_date = pd.Timestamp(\"2022-08-03\", tz=\"America/New_York\").isoformat()\n"
   ]
  },
  {
   "cell_type": "code",
   "execution_count": 76,
   "metadata": {},
   "outputs": [
    {
     "data": {
      "text/html": [
       "<div>\n",
       "<style scoped>\n",
       "    .dataframe tbody tr th:only-of-type {\n",
       "        vertical-align: middle;\n",
       "    }\n",
       "\n",
       "    .dataframe tbody tr th {\n",
       "        vertical-align: top;\n",
       "    }\n",
       "\n",
       "    .dataframe thead tr th {\n",
       "        text-align: left;\n",
       "    }\n",
       "\n",
       "    .dataframe thead tr:last-of-type th {\n",
       "        text-align: right;\n",
       "    }\n",
       "</style>\n",
       "<table border=\"1\" class=\"dataframe\">\n",
       "  <thead>\n",
       "    <tr>\n",
       "      <th></th>\n",
       "      <th colspan=\"7\" halign=\"left\">SPY</th>\n",
       "      <th colspan=\"7\" halign=\"left\">AGG</th>\n",
       "    </tr>\n",
       "    <tr>\n",
       "      <th></th>\n",
       "      <th>open</th>\n",
       "      <th>high</th>\n",
       "      <th>low</th>\n",
       "      <th>close</th>\n",
       "      <th>volume</th>\n",
       "      <th>trade_count</th>\n",
       "      <th>vwap</th>\n",
       "      <th>open</th>\n",
       "      <th>high</th>\n",
       "      <th>low</th>\n",
       "      <th>close</th>\n",
       "      <th>volume</th>\n",
       "      <th>trade_count</th>\n",
       "      <th>vwap</th>\n",
       "    </tr>\n",
       "    <tr>\n",
       "      <th>timestamp</th>\n",
       "      <th></th>\n",
       "      <th></th>\n",
       "      <th></th>\n",
       "      <th></th>\n",
       "      <th></th>\n",
       "      <th></th>\n",
       "      <th></th>\n",
       "      <th></th>\n",
       "      <th></th>\n",
       "      <th></th>\n",
       "      <th></th>\n",
       "      <th></th>\n",
       "      <th></th>\n",
       "      <th></th>\n",
       "    </tr>\n",
       "  </thead>\n",
       "  <tbody>\n",
       "    <tr>\n",
       "      <th>2022-07-28 04:00:00+00:00</th>\n",
       "      <td>401.84</td>\n",
       "      <td>406.80</td>\n",
       "      <td>398.15</td>\n",
       "      <td>406.07</td>\n",
       "      <td>73966563</td>\n",
       "      <td>570079</td>\n",
       "      <td>403.644305</td>\n",
       "      <td>104.09</td>\n",
       "      <td>104.205</td>\n",
       "      <td>103.835</td>\n",
       "      <td>104.06</td>\n",
       "      <td>6473834</td>\n",
       "      <td>23665</td>\n",
       "      <td>104.024178</td>\n",
       "    </tr>\n",
       "    <tr>\n",
       "      <th>2022-07-29 04:00:00+00:00</th>\n",
       "      <td>407.70</td>\n",
       "      <td>413.02</td>\n",
       "      <td>406.77</td>\n",
       "      <td>411.99</td>\n",
       "      <td>86779944</td>\n",
       "      <td>544810</td>\n",
       "      <td>410.668581</td>\n",
       "      <td>103.94</td>\n",
       "      <td>104.395</td>\n",
       "      <td>103.830</td>\n",
       "      <td>104.07</td>\n",
       "      <td>6523118</td>\n",
       "      <td>22800</td>\n",
       "      <td>104.156714</td>\n",
       "    </tr>\n",
       "    <tr>\n",
       "      <th>2022-08-01 04:00:00+00:00</th>\n",
       "      <td>409.16</td>\n",
       "      <td>413.41</td>\n",
       "      <td>408.40</td>\n",
       "      <td>410.77</td>\n",
       "      <td>69633616</td>\n",
       "      <td>516221</td>\n",
       "      <td>411.079113</td>\n",
       "      <td>103.97</td>\n",
       "      <td>104.305</td>\n",
       "      <td>103.910</td>\n",
       "      <td>104.23</td>\n",
       "      <td>7485387</td>\n",
       "      <td>31215</td>\n",
       "      <td>104.156518</td>\n",
       "    </tr>\n",
       "    <tr>\n",
       "      <th>2022-08-02 04:00:00+00:00</th>\n",
       "      <td>409.03</td>\n",
       "      <td>413.00</td>\n",
       "      <td>406.82</td>\n",
       "      <td>408.06</td>\n",
       "      <td>63113622</td>\n",
       "      <td>502751</td>\n",
       "      <td>409.635855</td>\n",
       "      <td>104.27</td>\n",
       "      <td>104.345</td>\n",
       "      <td>103.135</td>\n",
       "      <td>103.16</td>\n",
       "      <td>6866199</td>\n",
       "      <td>38447</td>\n",
       "      <td>103.522777</td>\n",
       "    </tr>\n",
       "    <tr>\n",
       "      <th>2022-08-03 04:00:00+00:00</th>\n",
       "      <td>410.40</td>\n",
       "      <td>415.68</td>\n",
       "      <td>410.00</td>\n",
       "      <td>414.45</td>\n",
       "      <td>67573063</td>\n",
       "      <td>463932</td>\n",
       "      <td>413.267159</td>\n",
       "      <td>103.03</td>\n",
       "      <td>103.640</td>\n",
       "      <td>102.720</td>\n",
       "      <td>103.62</td>\n",
       "      <td>6254853</td>\n",
       "      <td>23383</td>\n",
       "      <td>103.276553</td>\n",
       "    </tr>\n",
       "  </tbody>\n",
       "</table>\n",
       "</div>"
      ],
      "text/plain": [
       "                              SPY                                    \\\n",
       "                             open    high     low   close    volume   \n",
       "timestamp                                                             \n",
       "2022-07-28 04:00:00+00:00  401.84  406.80  398.15  406.07  73966563   \n",
       "2022-07-29 04:00:00+00:00  407.70  413.02  406.77  411.99  86779944   \n",
       "2022-08-01 04:00:00+00:00  409.16  413.41  408.40  410.77  69633616   \n",
       "2022-08-02 04:00:00+00:00  409.03  413.00  406.82  408.06  63113622   \n",
       "2022-08-03 04:00:00+00:00  410.40  415.68  410.00  414.45  67573063   \n",
       "\n",
       "                                                      AGG                    \\\n",
       "                          trade_count        vwap    open     high      low   \n",
       "timestamp                                                                     \n",
       "2022-07-28 04:00:00+00:00      570079  403.644305  104.09  104.205  103.835   \n",
       "2022-07-29 04:00:00+00:00      544810  410.668581  103.94  104.395  103.830   \n",
       "2022-08-01 04:00:00+00:00      516221  411.079113  103.97  104.305  103.910   \n",
       "2022-08-02 04:00:00+00:00      502751  409.635855  104.27  104.345  103.135   \n",
       "2022-08-03 04:00:00+00:00      463932  413.267159  103.03  103.640  102.720   \n",
       "\n",
       "                                                                    \n",
       "                            close   volume trade_count        vwap  \n",
       "timestamp                                                           \n",
       "2022-07-28 04:00:00+00:00  104.06  6473834       23665  104.024178  \n",
       "2022-07-29 04:00:00+00:00  104.07  6523118       22800  104.156714  \n",
       "2022-08-01 04:00:00+00:00  104.23  7485387       31215  104.156518  \n",
       "2022-08-02 04:00:00+00:00  103.16  6866199       38447  103.522777  \n",
       "2022-08-03 04:00:00+00:00  103.62  6254853       23383  103.276553  "
      ]
     },
     "execution_count": 76,
     "metadata": {},
     "output_type": "execute_result"
    }
   ],
   "source": [
    "# Use the Alpaca get_bars function to make the API call to get the 3 years worth of pricing data\n",
    "# The tickers and timeframe parameters should have been set in Part 1 of this activity \n",
    "# The start and end dates should be updated with the information set above\n",
    "# Remember to add the df property to the end of the call so the response is returned as a DataFrame\n",
    "three_year_prices_df = alpaca.get_bars(\n",
    "    tickers,\n",
    "    timeframe,\n",
    "    start=start_date,\n",
    "    end=end_date\n",
    ").df\n",
    "\n",
    "# Reorganize the DataFrame\n",
    "# Separate ticker data\n",
    "SPY = three_year_prices_df[three_year_prices_df['symbol']=='SPY'].drop('symbol', axis=1)\n",
    "AGG = three_year_prices_df[three_year_prices_df['symbol']=='AGG'].drop('symbol', axis=1)\n",
    "\n",
    "# Concatenate the ticker DataFrames\n",
    "three_year_prices_df = pd.concat([SPY, AGG], axis=1, keys=['SPY','AGG'])\n",
    "\n",
    "# Display both the first and last five rows of the DataFrame\n",
    "three_year_prices_df.head()\n",
    "three_year_prices_df.tail()"
   ]
  },
  {
   "cell_type": "markdown",
   "metadata": {},
   "source": [
    "#### Step 2: Run a Monte Carlo simulation of 500 samples and 30 years for the 60/40 portfolio, and then plot the results."
   ]
  },
  {
   "cell_type": "code",
   "execution_count": 77,
   "metadata": {},
   "outputs": [
    {
     "data": {
      "text/html": [
       "<div>\n",
       "<style scoped>\n",
       "    .dataframe tbody tr th:only-of-type {\n",
       "        vertical-align: middle;\n",
       "    }\n",
       "\n",
       "    .dataframe tbody tr th {\n",
       "        vertical-align: top;\n",
       "    }\n",
       "\n",
       "    .dataframe thead tr th {\n",
       "        text-align: left;\n",
       "    }\n",
       "\n",
       "    .dataframe thead tr:last-of-type th {\n",
       "        text-align: right;\n",
       "    }\n",
       "</style>\n",
       "<table border=\"1\" class=\"dataframe\">\n",
       "  <thead>\n",
       "    <tr>\n",
       "      <th></th>\n",
       "      <th colspan=\"8\" halign=\"left\">SPY</th>\n",
       "      <th colspan=\"8\" halign=\"left\">AGG</th>\n",
       "    </tr>\n",
       "    <tr>\n",
       "      <th></th>\n",
       "      <th>open</th>\n",
       "      <th>high</th>\n",
       "      <th>low</th>\n",
       "      <th>close</th>\n",
       "      <th>volume</th>\n",
       "      <th>trade_count</th>\n",
       "      <th>vwap</th>\n",
       "      <th>daily_return</th>\n",
       "      <th>open</th>\n",
       "      <th>high</th>\n",
       "      <th>low</th>\n",
       "      <th>close</th>\n",
       "      <th>volume</th>\n",
       "      <th>trade_count</th>\n",
       "      <th>vwap</th>\n",
       "      <th>daily_return</th>\n",
       "    </tr>\n",
       "    <tr>\n",
       "      <th>timestamp</th>\n",
       "      <th></th>\n",
       "      <th></th>\n",
       "      <th></th>\n",
       "      <th></th>\n",
       "      <th></th>\n",
       "      <th></th>\n",
       "      <th></th>\n",
       "      <th></th>\n",
       "      <th></th>\n",
       "      <th></th>\n",
       "      <th></th>\n",
       "      <th></th>\n",
       "      <th></th>\n",
       "      <th></th>\n",
       "      <th></th>\n",
       "      <th></th>\n",
       "    </tr>\n",
       "  </thead>\n",
       "  <tbody>\n",
       "    <tr>\n",
       "      <th>2019-08-05 04:00:00+00:00</th>\n",
       "      <td>288.07</td>\n",
       "      <td>288.21</td>\n",
       "      <td>281.72</td>\n",
       "      <td>283.82</td>\n",
       "      <td>178747597</td>\n",
       "      <td>789975</td>\n",
       "      <td>285.254711</td>\n",
       "      <td>NaN</td>\n",
       "      <td>112.28</td>\n",
       "      <td>112.58</td>\n",
       "      <td>112.250</td>\n",
       "      <td>112.44</td>\n",
       "      <td>7626664</td>\n",
       "      <td>26007</td>\n",
       "      <td>112.454502</td>\n",
       "      <td>NaN</td>\n",
       "    </tr>\n",
       "    <tr>\n",
       "      <th>2019-08-06 04:00:00+00:00</th>\n",
       "      <td>285.93</td>\n",
       "      <td>288.04</td>\n",
       "      <td>284.28</td>\n",
       "      <td>287.80</td>\n",
       "      <td>120763412</td>\n",
       "      <td>587808</td>\n",
       "      <td>286.234055</td>\n",
       "      <td>0.014023</td>\n",
       "      <td>112.47</td>\n",
       "      <td>112.76</td>\n",
       "      <td>112.400</td>\n",
       "      <td>112.74</td>\n",
       "      <td>5151810</td>\n",
       "      <td>20819</td>\n",
       "      <td>112.618811</td>\n",
       "      <td>0.002668</td>\n",
       "    </tr>\n",
       "    <tr>\n",
       "      <th>2019-08-07 04:00:00+00:00</th>\n",
       "      <td>284.40</td>\n",
       "      <td>288.82</td>\n",
       "      <td>282.04</td>\n",
       "      <td>287.97</td>\n",
       "      <td>143723012</td>\n",
       "      <td>668446</td>\n",
       "      <td>286.311024</td>\n",
       "      <td>0.000591</td>\n",
       "      <td>113.17</td>\n",
       "      <td>113.29</td>\n",
       "      <td>112.610</td>\n",
       "      <td>112.68</td>\n",
       "      <td>9156551</td>\n",
       "      <td>37550</td>\n",
       "      <td>112.959111</td>\n",
       "      <td>-0.000532</td>\n",
       "    </tr>\n",
       "    <tr>\n",
       "      <th>2019-08-08 04:00:00+00:00</th>\n",
       "      <td>289.62</td>\n",
       "      <td>293.62</td>\n",
       "      <td>289.01</td>\n",
       "      <td>293.62</td>\n",
       "      <td>88075904</td>\n",
       "      <td>406693</td>\n",
       "      <td>291.727950</td>\n",
       "      <td>0.019620</td>\n",
       "      <td>112.51</td>\n",
       "      <td>112.82</td>\n",
       "      <td>112.330</td>\n",
       "      <td>112.79</td>\n",
       "      <td>3707196</td>\n",
       "      <td>15027</td>\n",
       "      <td>112.586906</td>\n",
       "      <td>0.000976</td>\n",
       "    </tr>\n",
       "    <tr>\n",
       "      <th>2019-08-09 04:00:00+00:00</th>\n",
       "      <td>292.59</td>\n",
       "      <td>293.24</td>\n",
       "      <td>289.65</td>\n",
       "      <td>291.62</td>\n",
       "      <td>93729958</td>\n",
       "      <td>451157</td>\n",
       "      <td>291.732496</td>\n",
       "      <td>-0.006812</td>\n",
       "      <td>112.86</td>\n",
       "      <td>112.95</td>\n",
       "      <td>112.575</td>\n",
       "      <td>112.64</td>\n",
       "      <td>2432292</td>\n",
       "      <td>9508</td>\n",
       "      <td>112.748706</td>\n",
       "      <td>-0.001330</td>\n",
       "    </tr>\n",
       "  </tbody>\n",
       "</table>\n",
       "</div>"
      ],
      "text/plain": [
       "                              SPY                                     \\\n",
       "                             open    high     low   close     volume   \n",
       "timestamp                                                              \n",
       "2019-08-05 04:00:00+00:00  288.07  288.21  281.72  283.82  178747597   \n",
       "2019-08-06 04:00:00+00:00  285.93  288.04  284.28  287.80  120763412   \n",
       "2019-08-07 04:00:00+00:00  284.40  288.82  282.04  287.97  143723012   \n",
       "2019-08-08 04:00:00+00:00  289.62  293.62  289.01  293.62   88075904   \n",
       "2019-08-09 04:00:00+00:00  292.59  293.24  289.65  291.62   93729958   \n",
       "\n",
       "                                                                   AGG  \\\n",
       "                          trade_count        vwap daily_return    open   \n",
       "timestamp                                                                \n",
       "2019-08-05 04:00:00+00:00      789975  285.254711          NaN  112.28   \n",
       "2019-08-06 04:00:00+00:00      587808  286.234055     0.014023  112.47   \n",
       "2019-08-07 04:00:00+00:00      668446  286.311024     0.000591  113.17   \n",
       "2019-08-08 04:00:00+00:00      406693  291.727950     0.019620  112.51   \n",
       "2019-08-09 04:00:00+00:00      451157  291.732496    -0.006812  112.86   \n",
       "\n",
       "                                                                         \\\n",
       "                             high      low   close   volume trade_count   \n",
       "timestamp                                                                 \n",
       "2019-08-05 04:00:00+00:00  112.58  112.250  112.44  7626664       26007   \n",
       "2019-08-06 04:00:00+00:00  112.76  112.400  112.74  5151810       20819   \n",
       "2019-08-07 04:00:00+00:00  113.29  112.610  112.68  9156551       37550   \n",
       "2019-08-08 04:00:00+00:00  112.82  112.330  112.79  3707196       15027   \n",
       "2019-08-09 04:00:00+00:00  112.95  112.575  112.64  2432292        9508   \n",
       "\n",
       "                                                    \n",
       "                                 vwap daily_return  \n",
       "timestamp                                           \n",
       "2019-08-05 04:00:00+00:00  112.454502          NaN  \n",
       "2019-08-06 04:00:00+00:00  112.618811     0.002668  \n",
       "2019-08-07 04:00:00+00:00  112.959111    -0.000532  \n",
       "2019-08-08 04:00:00+00:00  112.586906     0.000976  \n",
       "2019-08-09 04:00:00+00:00  112.748706    -0.001330  "
      ]
     },
     "execution_count": 77,
     "metadata": {},
     "output_type": "execute_result"
    }
   ],
   "source": [
    "# Configure the Monte Carlo simulation to forecast 30 years cumulative returns\n",
    "# The weights should be split 40% to AGG and 60% to SPY.\n",
    "# Run 500 samples.\n",
    "MC_thirtyyear = MCSimulation(\n",
    "    portfolio_data = three_year_prices_df,\n",
    "    weights = [.60,.40],\n",
    "    num_simulation = 500,\n",
    "    num_trading_days = 252*30\n",
    ")\n",
    "\n",
    "# Review the simulation input data\n",
    "MC_thirtyyear.portfolio_data.head()\n"
   ]
  },
  {
   "cell_type": "code",
   "execution_count": 78,
   "metadata": {},
   "outputs": [
    {
     "name": "stdout",
     "output_type": "stream",
     "text": [
      "Running Monte Carlo simulation number 0.\n",
      "Running Monte Carlo simulation number 10.\n",
      "Running Monte Carlo simulation number 20.\n",
      "Running Monte Carlo simulation number 30.\n",
      "Running Monte Carlo simulation number 40.\n",
      "Running Monte Carlo simulation number 50.\n",
      "Running Monte Carlo simulation number 60.\n",
      "Running Monte Carlo simulation number 70.\n",
      "Running Monte Carlo simulation number 80.\n",
      "Running Monte Carlo simulation number 90.\n",
      "Running Monte Carlo simulation number 100.\n"
     ]
    },
    {
     "name": "stderr",
     "output_type": "stream",
     "text": [
      "/Users/grahamjohnstone/Dropbox/Python/bootcamp_coursework/Challenges/Module_5_Challenge/MCForecastTools.py:117: PerformanceWarning: DataFrame is highly fragmented.  This is usually the result of calling `frame.insert` many times, which has poor performance.  Consider joining all columns at once using pd.concat(axis=1) instead.  To get a de-fragmented frame, use `newframe = frame.copy()`\n",
      "  portfolio_cumulative_returns[n] = (1 + sim_df.fillna(0)).cumprod()\n"
     ]
    },
    {
     "name": "stdout",
     "output_type": "stream",
     "text": [
      "Running Monte Carlo simulation number 110.\n",
      "Running Monte Carlo simulation number 120.\n",
      "Running Monte Carlo simulation number 130.\n",
      "Running Monte Carlo simulation number 140.\n",
      "Running Monte Carlo simulation number 150.\n",
      "Running Monte Carlo simulation number 160.\n",
      "Running Monte Carlo simulation number 170.\n",
      "Running Monte Carlo simulation number 180.\n",
      "Running Monte Carlo simulation number 190.\n",
      "Running Monte Carlo simulation number 200.\n",
      "Running Monte Carlo simulation number 210.\n",
      "Running Monte Carlo simulation number 220.\n",
      "Running Monte Carlo simulation number 230.\n",
      "Running Monte Carlo simulation number 240.\n",
      "Running Monte Carlo simulation number 250.\n",
      "Running Monte Carlo simulation number 260.\n",
      "Running Monte Carlo simulation number 270.\n",
      "Running Monte Carlo simulation number 280.\n",
      "Running Monte Carlo simulation number 290.\n",
      "Running Monte Carlo simulation number 300.\n",
      "Running Monte Carlo simulation number 310.\n",
      "Running Monte Carlo simulation number 320.\n",
      "Running Monte Carlo simulation number 330.\n",
      "Running Monte Carlo simulation number 340.\n",
      "Running Monte Carlo simulation number 350.\n",
      "Running Monte Carlo simulation number 360.\n",
      "Running Monte Carlo simulation number 370.\n",
      "Running Monte Carlo simulation number 380.\n",
      "Running Monte Carlo simulation number 390.\n",
      "Running Monte Carlo simulation number 400.\n",
      "Running Monte Carlo simulation number 410.\n",
      "Running Monte Carlo simulation number 420.\n",
      "Running Monte Carlo simulation number 430.\n",
      "Running Monte Carlo simulation number 440.\n",
      "Running Monte Carlo simulation number 450.\n",
      "Running Monte Carlo simulation number 460.\n",
      "Running Monte Carlo simulation number 470.\n",
      "Running Monte Carlo simulation number 480.\n",
      "Running Monte Carlo simulation number 490.\n"
     ]
    },
    {
     "data": {
      "text/html": [
       "<div>\n",
       "<style scoped>\n",
       "    .dataframe tbody tr th:only-of-type {\n",
       "        vertical-align: middle;\n",
       "    }\n",
       "\n",
       "    .dataframe tbody tr th {\n",
       "        vertical-align: top;\n",
       "    }\n",
       "\n",
       "    .dataframe thead th {\n",
       "        text-align: right;\n",
       "    }\n",
       "</style>\n",
       "<table border=\"1\" class=\"dataframe\">\n",
       "  <thead>\n",
       "    <tr style=\"text-align: right;\">\n",
       "      <th></th>\n",
       "      <th>0</th>\n",
       "      <th>1</th>\n",
       "      <th>2</th>\n",
       "      <th>3</th>\n",
       "      <th>4</th>\n",
       "      <th>5</th>\n",
       "      <th>6</th>\n",
       "      <th>7</th>\n",
       "      <th>8</th>\n",
       "      <th>9</th>\n",
       "      <th>...</th>\n",
       "      <th>490</th>\n",
       "      <th>491</th>\n",
       "      <th>492</th>\n",
       "      <th>493</th>\n",
       "      <th>494</th>\n",
       "      <th>495</th>\n",
       "      <th>496</th>\n",
       "      <th>497</th>\n",
       "      <th>498</th>\n",
       "      <th>499</th>\n",
       "    </tr>\n",
       "  </thead>\n",
       "  <tbody>\n",
       "    <tr>\n",
       "      <th>0</th>\n",
       "      <td>1.000000</td>\n",
       "      <td>1.000000</td>\n",
       "      <td>1.000000</td>\n",
       "      <td>1.000000</td>\n",
       "      <td>1.000000</td>\n",
       "      <td>1.000000</td>\n",
       "      <td>1.000000</td>\n",
       "      <td>1.000000</td>\n",
       "      <td>1.000000</td>\n",
       "      <td>1.000000</td>\n",
       "      <td>...</td>\n",
       "      <td>1.000000</td>\n",
       "      <td>1.000000</td>\n",
       "      <td>1.000000</td>\n",
       "      <td>1.000000</td>\n",
       "      <td>1.000000</td>\n",
       "      <td>1.000000</td>\n",
       "      <td>1.000000</td>\n",
       "      <td>1.000000</td>\n",
       "      <td>1.000000</td>\n",
       "      <td>1.000000</td>\n",
       "    </tr>\n",
       "    <tr>\n",
       "      <th>1</th>\n",
       "      <td>1.006043</td>\n",
       "      <td>1.004640</td>\n",
       "      <td>1.002197</td>\n",
       "      <td>1.012855</td>\n",
       "      <td>0.991692</td>\n",
       "      <td>1.012737</td>\n",
       "      <td>0.993355</td>\n",
       "      <td>0.999842</td>\n",
       "      <td>0.998082</td>\n",
       "      <td>1.001970</td>\n",
       "      <td>...</td>\n",
       "      <td>0.996466</td>\n",
       "      <td>1.006735</td>\n",
       "      <td>0.990839</td>\n",
       "      <td>1.001959</td>\n",
       "      <td>0.996800</td>\n",
       "      <td>0.997969</td>\n",
       "      <td>1.000370</td>\n",
       "      <td>1.004128</td>\n",
       "      <td>1.014696</td>\n",
       "      <td>0.995915</td>\n",
       "    </tr>\n",
       "    <tr>\n",
       "      <th>2</th>\n",
       "      <td>1.018390</td>\n",
       "      <td>0.998838</td>\n",
       "      <td>1.004917</td>\n",
       "      <td>1.009063</td>\n",
       "      <td>0.990559</td>\n",
       "      <td>1.026715</td>\n",
       "      <td>0.984721</td>\n",
       "      <td>0.991751</td>\n",
       "      <td>0.998572</td>\n",
       "      <td>0.993065</td>\n",
       "      <td>...</td>\n",
       "      <td>0.976759</td>\n",
       "      <td>1.008426</td>\n",
       "      <td>0.996560</td>\n",
       "      <td>0.992948</td>\n",
       "      <td>0.984538</td>\n",
       "      <td>0.995418</td>\n",
       "      <td>1.004792</td>\n",
       "      <td>1.007735</td>\n",
       "      <td>1.015537</td>\n",
       "      <td>0.989236</td>\n",
       "    </tr>\n",
       "    <tr>\n",
       "      <th>3</th>\n",
       "      <td>1.023226</td>\n",
       "      <td>0.983073</td>\n",
       "      <td>0.995866</td>\n",
       "      <td>1.015459</td>\n",
       "      <td>0.980502</td>\n",
       "      <td>1.030345</td>\n",
       "      <td>1.001575</td>\n",
       "      <td>1.002646</td>\n",
       "      <td>1.007638</td>\n",
       "      <td>0.988371</td>\n",
       "      <td>...</td>\n",
       "      <td>0.976012</td>\n",
       "      <td>0.994051</td>\n",
       "      <td>0.999955</td>\n",
       "      <td>0.997552</td>\n",
       "      <td>0.981826</td>\n",
       "      <td>0.990674</td>\n",
       "      <td>1.001283</td>\n",
       "      <td>1.008201</td>\n",
       "      <td>1.019639</td>\n",
       "      <td>0.985424</td>\n",
       "    </tr>\n",
       "    <tr>\n",
       "      <th>4</th>\n",
       "      <td>1.016812</td>\n",
       "      <td>0.986230</td>\n",
       "      <td>1.003091</td>\n",
       "      <td>1.020893</td>\n",
       "      <td>0.998015</td>\n",
       "      <td>1.053969</td>\n",
       "      <td>1.000022</td>\n",
       "      <td>1.003767</td>\n",
       "      <td>1.002125</td>\n",
       "      <td>0.987924</td>\n",
       "      <td>...</td>\n",
       "      <td>0.971750</td>\n",
       "      <td>1.002746</td>\n",
       "      <td>1.007946</td>\n",
       "      <td>0.997693</td>\n",
       "      <td>1.002141</td>\n",
       "      <td>0.977843</td>\n",
       "      <td>1.000566</td>\n",
       "      <td>1.006892</td>\n",
       "      <td>1.023095</td>\n",
       "      <td>0.992731</td>\n",
       "    </tr>\n",
       "    <tr>\n",
       "      <th>...</th>\n",
       "      <td>...</td>\n",
       "      <td>...</td>\n",
       "      <td>...</td>\n",
       "      <td>...</td>\n",
       "      <td>...</td>\n",
       "      <td>...</td>\n",
       "      <td>...</td>\n",
       "      <td>...</td>\n",
       "      <td>...</td>\n",
       "      <td>...</td>\n",
       "      <td>...</td>\n",
       "      <td>...</td>\n",
       "      <td>...</td>\n",
       "      <td>...</td>\n",
       "      <td>...</td>\n",
       "      <td>...</td>\n",
       "      <td>...</td>\n",
       "      <td>...</td>\n",
       "      <td>...</td>\n",
       "      <td>...</td>\n",
       "      <td>...</td>\n",
       "    </tr>\n",
       "    <tr>\n",
       "      <th>7556</th>\n",
       "      <td>4.186739</td>\n",
       "      <td>6.647791</td>\n",
       "      <td>14.578567</td>\n",
       "      <td>31.824372</td>\n",
       "      <td>30.462212</td>\n",
       "      <td>24.102262</td>\n",
       "      <td>1.645818</td>\n",
       "      <td>14.943986</td>\n",
       "      <td>9.768952</td>\n",
       "      <td>2.933758</td>\n",
       "      <td>...</td>\n",
       "      <td>4.219833</td>\n",
       "      <td>13.270071</td>\n",
       "      <td>6.328610</td>\n",
       "      <td>3.019552</td>\n",
       "      <td>4.832407</td>\n",
       "      <td>4.050427</td>\n",
       "      <td>5.059187</td>\n",
       "      <td>2.786739</td>\n",
       "      <td>1.848355</td>\n",
       "      <td>17.585429</td>\n",
       "    </tr>\n",
       "    <tr>\n",
       "      <th>7557</th>\n",
       "      <td>4.177467</td>\n",
       "      <td>6.635104</td>\n",
       "      <td>14.650312</td>\n",
       "      <td>31.689872</td>\n",
       "      <td>30.413923</td>\n",
       "      <td>24.363874</td>\n",
       "      <td>1.656529</td>\n",
       "      <td>15.132147</td>\n",
       "      <td>9.867668</td>\n",
       "      <td>2.970126</td>\n",
       "      <td>...</td>\n",
       "      <td>4.190435</td>\n",
       "      <td>13.096735</td>\n",
       "      <td>6.253932</td>\n",
       "      <td>2.975333</td>\n",
       "      <td>4.888924</td>\n",
       "      <td>4.122837</td>\n",
       "      <td>5.012837</td>\n",
       "      <td>2.847238</td>\n",
       "      <td>1.818465</td>\n",
       "      <td>17.818788</td>\n",
       "    </tr>\n",
       "    <tr>\n",
       "      <th>7558</th>\n",
       "      <td>4.193873</td>\n",
       "      <td>6.569802</td>\n",
       "      <td>14.380661</td>\n",
       "      <td>31.317983</td>\n",
       "      <td>30.045953</td>\n",
       "      <td>24.195242</td>\n",
       "      <td>1.665479</td>\n",
       "      <td>15.024999</td>\n",
       "      <td>9.917571</td>\n",
       "      <td>2.981348</td>\n",
       "      <td>...</td>\n",
       "      <td>4.219351</td>\n",
       "      <td>12.905876</td>\n",
       "      <td>6.332911</td>\n",
       "      <td>2.959453</td>\n",
       "      <td>4.896575</td>\n",
       "      <td>4.088741</td>\n",
       "      <td>4.955167</td>\n",
       "      <td>2.836817</td>\n",
       "      <td>1.801976</td>\n",
       "      <td>18.009081</td>\n",
       "    </tr>\n",
       "    <tr>\n",
       "      <th>7559</th>\n",
       "      <td>4.201818</td>\n",
       "      <td>6.538589</td>\n",
       "      <td>14.667792</td>\n",
       "      <td>31.112516</td>\n",
       "      <td>30.221117</td>\n",
       "      <td>24.392574</td>\n",
       "      <td>1.643705</td>\n",
       "      <td>15.241830</td>\n",
       "      <td>9.919912</td>\n",
       "      <td>2.989983</td>\n",
       "      <td>...</td>\n",
       "      <td>4.223541</td>\n",
       "      <td>12.945857</td>\n",
       "      <td>6.336099</td>\n",
       "      <td>2.939541</td>\n",
       "      <td>4.904751</td>\n",
       "      <td>4.050009</td>\n",
       "      <td>4.936110</td>\n",
       "      <td>2.865303</td>\n",
       "      <td>1.831957</td>\n",
       "      <td>17.926299</td>\n",
       "    </tr>\n",
       "    <tr>\n",
       "      <th>7560</th>\n",
       "      <td>4.147981</td>\n",
       "      <td>6.607346</td>\n",
       "      <td>14.743260</td>\n",
       "      <td>30.449410</td>\n",
       "      <td>30.497611</td>\n",
       "      <td>24.620717</td>\n",
       "      <td>1.631313</td>\n",
       "      <td>15.308789</td>\n",
       "      <td>9.868900</td>\n",
       "      <td>2.936741</td>\n",
       "      <td>...</td>\n",
       "      <td>4.178525</td>\n",
       "      <td>13.005824</td>\n",
       "      <td>6.296587</td>\n",
       "      <td>2.939924</td>\n",
       "      <td>4.805383</td>\n",
       "      <td>4.019352</td>\n",
       "      <td>4.983400</td>\n",
       "      <td>2.843751</td>\n",
       "      <td>1.835575</td>\n",
       "      <td>17.955464</td>\n",
       "    </tr>\n",
       "  </tbody>\n",
       "</table>\n",
       "<p>7561 rows × 500 columns</p>\n",
       "</div>"
      ],
      "text/plain": [
       "           0         1          2          3          4          5    \\\n",
       "0     1.000000  1.000000   1.000000   1.000000   1.000000   1.000000   \n",
       "1     1.006043  1.004640   1.002197   1.012855   0.991692   1.012737   \n",
       "2     1.018390  0.998838   1.004917   1.009063   0.990559   1.026715   \n",
       "3     1.023226  0.983073   0.995866   1.015459   0.980502   1.030345   \n",
       "4     1.016812  0.986230   1.003091   1.020893   0.998015   1.053969   \n",
       "...        ...       ...        ...        ...        ...        ...   \n",
       "7556  4.186739  6.647791  14.578567  31.824372  30.462212  24.102262   \n",
       "7557  4.177467  6.635104  14.650312  31.689872  30.413923  24.363874   \n",
       "7558  4.193873  6.569802  14.380661  31.317983  30.045953  24.195242   \n",
       "7559  4.201818  6.538589  14.667792  31.112516  30.221117  24.392574   \n",
       "7560  4.147981  6.607346  14.743260  30.449410  30.497611  24.620717   \n",
       "\n",
       "           6          7         8         9    ...       490        491  \\\n",
       "0     1.000000   1.000000  1.000000  1.000000  ...  1.000000   1.000000   \n",
       "1     0.993355   0.999842  0.998082  1.001970  ...  0.996466   1.006735   \n",
       "2     0.984721   0.991751  0.998572  0.993065  ...  0.976759   1.008426   \n",
       "3     1.001575   1.002646  1.007638  0.988371  ...  0.976012   0.994051   \n",
       "4     1.000022   1.003767  1.002125  0.987924  ...  0.971750   1.002746   \n",
       "...        ...        ...       ...       ...  ...       ...        ...   \n",
       "7556  1.645818  14.943986  9.768952  2.933758  ...  4.219833  13.270071   \n",
       "7557  1.656529  15.132147  9.867668  2.970126  ...  4.190435  13.096735   \n",
       "7558  1.665479  15.024999  9.917571  2.981348  ...  4.219351  12.905876   \n",
       "7559  1.643705  15.241830  9.919912  2.989983  ...  4.223541  12.945857   \n",
       "7560  1.631313  15.308789  9.868900  2.936741  ...  4.178525  13.005824   \n",
       "\n",
       "           492       493       494       495       496       497       498  \\\n",
       "0     1.000000  1.000000  1.000000  1.000000  1.000000  1.000000  1.000000   \n",
       "1     0.990839  1.001959  0.996800  0.997969  1.000370  1.004128  1.014696   \n",
       "2     0.996560  0.992948  0.984538  0.995418  1.004792  1.007735  1.015537   \n",
       "3     0.999955  0.997552  0.981826  0.990674  1.001283  1.008201  1.019639   \n",
       "4     1.007946  0.997693  1.002141  0.977843  1.000566  1.006892  1.023095   \n",
       "...        ...       ...       ...       ...       ...       ...       ...   \n",
       "7556  6.328610  3.019552  4.832407  4.050427  5.059187  2.786739  1.848355   \n",
       "7557  6.253932  2.975333  4.888924  4.122837  5.012837  2.847238  1.818465   \n",
       "7558  6.332911  2.959453  4.896575  4.088741  4.955167  2.836817  1.801976   \n",
       "7559  6.336099  2.939541  4.904751  4.050009  4.936110  2.865303  1.831957   \n",
       "7560  6.296587  2.939924  4.805383  4.019352  4.983400  2.843751  1.835575   \n",
       "\n",
       "            499  \n",
       "0      1.000000  \n",
       "1      0.995915  \n",
       "2      0.989236  \n",
       "3      0.985424  \n",
       "4      0.992731  \n",
       "...         ...  \n",
       "7556  17.585429  \n",
       "7557  17.818788  \n",
       "7558  18.009081  \n",
       "7559  17.926299  \n",
       "7560  17.955464  \n",
       "\n",
       "[7561 rows x 500 columns]"
      ]
     },
     "execution_count": 78,
     "metadata": {},
     "output_type": "execute_result"
    }
   ],
   "source": [
    "# Run the Monte Carlo simulation to forecast 30 years cumulative returns\n",
    "MC_thirtyyear.calc_cumulative_return()\n"
   ]
  },
  {
   "cell_type": "code",
   "execution_count": 79,
   "metadata": {},
   "outputs": [
    {
     "data": {
      "image/png": "[encoded data removed]",
      "text/plain": [
       "<Figure size 432x288 with 1 Axes>"
      ]
     },
     "metadata": {
      "needs_background": "light"
     },
     "output_type": "display_data"
    }
   ],
   "source": [
    "# Visualize the 30-year Monte Carlo simulation by creating an\n",
    "# overlay line plot\n",
    "MC_thirtyyear_line_plot = MC_thirtyyear.plot_simulation()\n"
   ]
  },
  {
   "cell_type": "markdown",
   "metadata": {},
   "source": [
    "#### Step 3: Plot the probability distribution of the Monte Carlo simulation."
   ]
  },
  {
   "cell_type": "code",
   "execution_count": 80,
   "metadata": {},
   "outputs": [
    {
     "data": {
      "image/png": "[encoded data removed]",
      "text/plain": [
       "<Figure size 432x288 with 1 Axes>"
      ]
     },
     "metadata": {
      "needs_background": "light"
     },
     "output_type": "display_data"
    }
   ],
   "source": [
    "# Visualize the probability distribution of the 30-year Monte Carlo simulation \n",
    "# by plotting a histogram\n",
    "MC_thirtyyear_dist_plot = MC_thirtyyear.plot_distribution()\n"
   ]
  },
  {
   "cell_type": "markdown",
   "metadata": {},
   "source": [
    "#### Step 4: Generate the summary statistics for the Monte Carlo simulation."
   ]
  },
  {
   "cell_type": "code",
   "execution_count": 81,
   "metadata": {},
   "outputs": [
    {
     "name": "stdout",
     "output_type": "stream",
     "text": [
      "count           500.000000\n",
      "mean             12.588500\n",
      "std              13.152135\n",
      "min               0.834125\n",
      "25%               5.052295\n",
      "50%               9.367978\n",
      "75%              15.014771\n",
      "max             149.232622\n",
      "95% CI Lower      1.886353\n",
      "95% CI Upper     41.360837\n",
      "Name: 7560, dtype: float64\n"
     ]
    }
   ],
   "source": [
    "# Generate summary statistics from the 30-year Monte Carlo simulation results\n",
    "# Save the results as a variable\n",
    "MC_thirtyyear_sum_stats = MC_thirtyyear.summarize_cumulative_return()\n",
    "\n",
    "\n",
    "# Review the 30-year Monte Carlo summary statistics\n",
    "print(MC_thirtyyear_sum_stats)"
   ]
  },
  {
   "cell_type": "markdown",
   "metadata": {},
   "source": [
    "### Analyze the Retirement Portfolio Forecasts\n",
    "\n",
    "Using the current value of only the stock and bond portion of the member's portfolio and the summary statistics that you generated from the Monte Carlo simulation, answer the following question in your Jupyter notebook:\n",
    "\n",
    "-  What are the lower and upper bounds for the expected value of the portfolio with a 95% confidence interval?\n"
   ]
  },
  {
   "cell_type": "code",
   "execution_count": 82,
   "metadata": {},
   "outputs": [
    {
     "name": "stdout",
     "output_type": "stream",
     "text": [
      "The total value of the stocks and bonds portofolio is: $ 66313\n"
     ]
    }
   ],
   "source": [
    "# Print the current balance of the stock and bond portion of the members portfolio\n",
    "print(\"The total value of the stocks and bonds portofolio is: $\",(int(total_stocks_bonds)))\n"
   ]
  },
  {
   "cell_type": "code",
   "execution_count": 83,
   "metadata": {},
   "outputs": [
    {
     "name": "stdout",
     "output_type": "stream",
     "text": [
      "There is a 95% chance that the investment of the current value of the stocks and bonds in the portfolio over the next 30 years will end within the range of$ 125089.76 and $ 2742761.20.\n"
     ]
    }
   ],
   "source": [
    "# Use the lower and upper `95%` confidence intervals to calculate the range of the possible outcomes for the current stock/bond portfolio\n",
    "ci_lower_thirty_cumulative_return = MC_thirtyyear_sum_stats[8] * int(total_stocks_bonds)\n",
    "ci_upper_thirty_cumulative_return = MC_thirtyyear_sum_stats[9] * int(total_stocks_bonds)\n",
    "\n",
    "# Print the result of your calculations\n",
    "print(f\"There is a 95% chance that the investment of the current value of the stocks and bonds in the portfolio over the next 30 years will end within the range of\"\n",
    "      f\"${ci_lower_thirty_cumulative_return: .2f} and ${ci_upper_thirty_cumulative_return: .2f}.\")\n"
   ]
  },
  {
   "cell_type": "markdown",
   "metadata": {},
   "source": [
    "### Forecast Cumulative Returns in 10 Years\n",
    "\n",
    "The CTO of the credit union is impressed with your work on these planning tools but wonders if 30 years is a long time to wait until retirement. So, your next task is to adjust the retirement portfolio and run a new Monte Carlo simulation to find out if the changes will allow members to retire earlier.\n",
    "\n",
    "For this new Monte Carlo simulation, do the following: \n",
    "\n",
    "- Forecast the cumulative returns for 10 years from now. Because of the shortened investment horizon (30 years to 10 years), the portfolio needs to invest more heavily in the riskier asset&mdash;that is, stock&mdash;to help accumulate wealth for retirement. \n",
    "\n",
    "- Adjust the weights of the retirement portfolio so that the composition for the Monte Carlo simulation consists of 20% bonds and 80% stocks. \n",
    "\n",
    "- Run the simulation over 500 samples, and use the same data that the API call to Alpaca generated.\n",
    "\n",
    "- Based on the new Monte Carlo simulation, answer the following questions in your Jupyter notebook:\n",
    "\n",
    "    - Using the current value of only the stock and bond portion of the member's portfolio and the summary statistics that you generated from the new Monte Carlo simulation, what are the lower and upper bounds for the expected value of the portfolio (with the new weights) with a 95% confidence interval?\n",
    "\n",
    "    - Will weighting the portfolio more heavily toward stocks allow the credit union members to retire after only 10 years?\n"
   ]
  },
  {
   "cell_type": "code",
   "execution_count": 84,
   "metadata": {},
   "outputs": [
    {
     "data": {
      "text/html": [
       "<div>\n",
       "<style scoped>\n",
       "    .dataframe tbody tr th:only-of-type {\n",
       "        vertical-align: middle;\n",
       "    }\n",
       "\n",
       "    .dataframe tbody tr th {\n",
       "        vertical-align: top;\n",
       "    }\n",
       "\n",
       "    .dataframe thead tr th {\n",
       "        text-align: left;\n",
       "    }\n",
       "\n",
       "    .dataframe thead tr:last-of-type th {\n",
       "        text-align: right;\n",
       "    }\n",
       "</style>\n",
       "<table border=\"1\" class=\"dataframe\">\n",
       "  <thead>\n",
       "    <tr>\n",
       "      <th></th>\n",
       "      <th colspan=\"8\" halign=\"left\">SPY</th>\n",
       "      <th colspan=\"8\" halign=\"left\">AGG</th>\n",
       "    </tr>\n",
       "    <tr>\n",
       "      <th></th>\n",
       "      <th>open</th>\n",
       "      <th>high</th>\n",
       "      <th>low</th>\n",
       "      <th>close</th>\n",
       "      <th>volume</th>\n",
       "      <th>trade_count</th>\n",
       "      <th>vwap</th>\n",
       "      <th>daily_return</th>\n",
       "      <th>open</th>\n",
       "      <th>high</th>\n",
       "      <th>low</th>\n",
       "      <th>close</th>\n",
       "      <th>volume</th>\n",
       "      <th>trade_count</th>\n",
       "      <th>vwap</th>\n",
       "      <th>daily_return</th>\n",
       "    </tr>\n",
       "    <tr>\n",
       "      <th>timestamp</th>\n",
       "      <th></th>\n",
       "      <th></th>\n",
       "      <th></th>\n",
       "      <th></th>\n",
       "      <th></th>\n",
       "      <th></th>\n",
       "      <th></th>\n",
       "      <th></th>\n",
       "      <th></th>\n",
       "      <th></th>\n",
       "      <th></th>\n",
       "      <th></th>\n",
       "      <th></th>\n",
       "      <th></th>\n",
       "      <th></th>\n",
       "      <th></th>\n",
       "    </tr>\n",
       "  </thead>\n",
       "  <tbody>\n",
       "    <tr>\n",
       "      <th>2019-08-05 04:00:00+00:00</th>\n",
       "      <td>288.07</td>\n",
       "      <td>288.21</td>\n",
       "      <td>281.72</td>\n",
       "      <td>283.82</td>\n",
       "      <td>178747597</td>\n",
       "      <td>789975</td>\n",
       "      <td>285.254711</td>\n",
       "      <td>NaN</td>\n",
       "      <td>112.28</td>\n",
       "      <td>112.58</td>\n",
       "      <td>112.250</td>\n",
       "      <td>112.44</td>\n",
       "      <td>7626664</td>\n",
       "      <td>26007</td>\n",
       "      <td>112.454502</td>\n",
       "      <td>NaN</td>\n",
       "    </tr>\n",
       "    <tr>\n",
       "      <th>2019-08-06 04:00:00+00:00</th>\n",
       "      <td>285.93</td>\n",
       "      <td>288.04</td>\n",
       "      <td>284.28</td>\n",
       "      <td>287.80</td>\n",
       "      <td>120763412</td>\n",
       "      <td>587808</td>\n",
       "      <td>286.234055</td>\n",
       "      <td>0.014023</td>\n",
       "      <td>112.47</td>\n",
       "      <td>112.76</td>\n",
       "      <td>112.400</td>\n",
       "      <td>112.74</td>\n",
       "      <td>5151810</td>\n",
       "      <td>20819</td>\n",
       "      <td>112.618811</td>\n",
       "      <td>0.002668</td>\n",
       "    </tr>\n",
       "    <tr>\n",
       "      <th>2019-08-07 04:00:00+00:00</th>\n",
       "      <td>284.40</td>\n",
       "      <td>288.82</td>\n",
       "      <td>282.04</td>\n",
       "      <td>287.97</td>\n",
       "      <td>143723012</td>\n",
       "      <td>668446</td>\n",
       "      <td>286.311024</td>\n",
       "      <td>0.000591</td>\n",
       "      <td>113.17</td>\n",
       "      <td>113.29</td>\n",
       "      <td>112.610</td>\n",
       "      <td>112.68</td>\n",
       "      <td>9156551</td>\n",
       "      <td>37550</td>\n",
       "      <td>112.959111</td>\n",
       "      <td>-0.000532</td>\n",
       "    </tr>\n",
       "    <tr>\n",
       "      <th>2019-08-08 04:00:00+00:00</th>\n",
       "      <td>289.62</td>\n",
       "      <td>293.62</td>\n",
       "      <td>289.01</td>\n",
       "      <td>293.62</td>\n",
       "      <td>88075904</td>\n",
       "      <td>406693</td>\n",
       "      <td>291.727950</td>\n",
       "      <td>0.019620</td>\n",
       "      <td>112.51</td>\n",
       "      <td>112.82</td>\n",
       "      <td>112.330</td>\n",
       "      <td>112.79</td>\n",
       "      <td>3707196</td>\n",
       "      <td>15027</td>\n",
       "      <td>112.586906</td>\n",
       "      <td>0.000976</td>\n",
       "    </tr>\n",
       "    <tr>\n",
       "      <th>2019-08-09 04:00:00+00:00</th>\n",
       "      <td>292.59</td>\n",
       "      <td>293.24</td>\n",
       "      <td>289.65</td>\n",
       "      <td>291.62</td>\n",
       "      <td>93729958</td>\n",
       "      <td>451157</td>\n",
       "      <td>291.732496</td>\n",
       "      <td>-0.006812</td>\n",
       "      <td>112.86</td>\n",
       "      <td>112.95</td>\n",
       "      <td>112.575</td>\n",
       "      <td>112.64</td>\n",
       "      <td>2432292</td>\n",
       "      <td>9508</td>\n",
       "      <td>112.748706</td>\n",
       "      <td>-0.001330</td>\n",
       "    </tr>\n",
       "  </tbody>\n",
       "</table>\n",
       "</div>"
      ],
      "text/plain": [
       "                              SPY                                     \\\n",
       "                             open    high     low   close     volume   \n",
       "timestamp                                                              \n",
       "2019-08-05 04:00:00+00:00  288.07  288.21  281.72  283.82  178747597   \n",
       "2019-08-06 04:00:00+00:00  285.93  288.04  284.28  287.80  120763412   \n",
       "2019-08-07 04:00:00+00:00  284.40  288.82  282.04  287.97  143723012   \n",
       "2019-08-08 04:00:00+00:00  289.62  293.62  289.01  293.62   88075904   \n",
       "2019-08-09 04:00:00+00:00  292.59  293.24  289.65  291.62   93729958   \n",
       "\n",
       "                                                                   AGG  \\\n",
       "                          trade_count        vwap daily_return    open   \n",
       "timestamp                                                                \n",
       "2019-08-05 04:00:00+00:00      789975  285.254711          NaN  112.28   \n",
       "2019-08-06 04:00:00+00:00      587808  286.234055     0.014023  112.47   \n",
       "2019-08-07 04:00:00+00:00      668446  286.311024     0.000591  113.17   \n",
       "2019-08-08 04:00:00+00:00      406693  291.727950     0.019620  112.51   \n",
       "2019-08-09 04:00:00+00:00      451157  291.732496    -0.006812  112.86   \n",
       "\n",
       "                                                                         \\\n",
       "                             high      low   close   volume trade_count   \n",
       "timestamp                                                                 \n",
       "2019-08-05 04:00:00+00:00  112.58  112.250  112.44  7626664       26007   \n",
       "2019-08-06 04:00:00+00:00  112.76  112.400  112.74  5151810       20819   \n",
       "2019-08-07 04:00:00+00:00  113.29  112.610  112.68  9156551       37550   \n",
       "2019-08-08 04:00:00+00:00  112.82  112.330  112.79  3707196       15027   \n",
       "2019-08-09 04:00:00+00:00  112.95  112.575  112.64  2432292        9508   \n",
       "\n",
       "                                                    \n",
       "                                 vwap daily_return  \n",
       "timestamp                                           \n",
       "2019-08-05 04:00:00+00:00  112.454502          NaN  \n",
       "2019-08-06 04:00:00+00:00  112.618811     0.002668  \n",
       "2019-08-07 04:00:00+00:00  112.959111    -0.000532  \n",
       "2019-08-08 04:00:00+00:00  112.586906     0.000976  \n",
       "2019-08-09 04:00:00+00:00  112.748706    -0.001330  "
      ]
     },
     "execution_count": 84,
     "metadata": {},
     "output_type": "execute_result"
    }
   ],
   "source": [
    "# Configure a Monte Carlo simulation to forecast 10 years cumulative returns\n",
    "# The weights should be split 20% to AGG and 80% to SPY.\n",
    "# Run 500 samples.\n",
    "MC_tenyear = MCSimulation(\n",
    "    portfolio_data = three_year_prices_df,\n",
    "    weights = [.80,.20],\n",
    "    num_simulation = 500,\n",
    "    num_trading_days = 252*10\n",
    ")\n",
    "\n",
    "# Review the simulation input data\n",
    "MC_tenyear.portfolio_data.head()\n"
   ]
  },
  {
   "cell_type": "code",
   "execution_count": 85,
   "metadata": {},
   "outputs": [
    {
     "name": "stdout",
     "output_type": "stream",
     "text": [
      "Running Monte Carlo simulation number 0.\n",
      "Running Monte Carlo simulation number 10.\n",
      "Running Monte Carlo simulation number 20.\n",
      "Running Monte Carlo simulation number 30.\n",
      "Running Monte Carlo simulation number 40.\n",
      "Running Monte Carlo simulation number 50.\n",
      "Running Monte Carlo simulation number 60.\n",
      "Running Monte Carlo simulation number 70.\n",
      "Running Monte Carlo simulation number 80.\n",
      "Running Monte Carlo simulation number 90.\n",
      "Running Monte Carlo simulation number 100.\n"
     ]
    },
    {
     "name": "stderr",
     "output_type": "stream",
     "text": [
      "/Users/grahamjohnstone/Dropbox/Python/bootcamp_coursework/Challenges/Module_5_Challenge/MCForecastTools.py:117: PerformanceWarning: DataFrame is highly fragmented.  This is usually the result of calling `frame.insert` many times, which has poor performance.  Consider joining all columns at once using pd.concat(axis=1) instead.  To get a de-fragmented frame, use `newframe = frame.copy()`\n",
      "  portfolio_cumulative_returns[n] = (1 + sim_df.fillna(0)).cumprod()\n"
     ]
    },
    {
     "name": "stdout",
     "output_type": "stream",
     "text": [
      "Running Monte Carlo simulation number 110.\n",
      "Running Monte Carlo simulation number 120.\n",
      "Running Monte Carlo simulation number 130.\n",
      "Running Monte Carlo simulation number 140.\n",
      "Running Monte Carlo simulation number 150.\n",
      "Running Monte Carlo simulation number 160.\n",
      "Running Monte Carlo simulation number 170.\n",
      "Running Monte Carlo simulation number 180.\n",
      "Running Monte Carlo simulation number 190.\n",
      "Running Monte Carlo simulation number 200.\n",
      "Running Monte Carlo simulation number 210.\n",
      "Running Monte Carlo simulation number 220.\n",
      "Running Monte Carlo simulation number 230.\n",
      "Running Monte Carlo simulation number 240.\n",
      "Running Monte Carlo simulation number 250.\n",
      "Running Monte Carlo simulation number 260.\n",
      "Running Monte Carlo simulation number 270.\n",
      "Running Monte Carlo simulation number 280.\n",
      "Running Monte Carlo simulation number 290.\n",
      "Running Monte Carlo simulation number 300.\n",
      "Running Monte Carlo simulation number 310.\n",
      "Running Monte Carlo simulation number 320.\n",
      "Running Monte Carlo simulation number 330.\n",
      "Running Monte Carlo simulation number 340.\n",
      "Running Monte Carlo simulation number 350.\n",
      "Running Monte Carlo simulation number 360.\n",
      "Running Monte Carlo simulation number 370.\n",
      "Running Monte Carlo simulation number 380.\n",
      "Running Monte Carlo simulation number 390.\n",
      "Running Monte Carlo simulation number 400.\n",
      "Running Monte Carlo simulation number 410.\n",
      "Running Monte Carlo simulation number 420.\n",
      "Running Monte Carlo simulation number 430.\n",
      "Running Monte Carlo simulation number 440.\n",
      "Running Monte Carlo simulation number 450.\n",
      "Running Monte Carlo simulation number 460.\n",
      "Running Monte Carlo simulation number 470.\n",
      "Running Monte Carlo simulation number 480.\n",
      "Running Monte Carlo simulation number 490.\n"
     ]
    },
    {
     "data": {
      "text/html": [
       "<div>\n",
       "<style scoped>\n",
       "    .dataframe tbody tr th:only-of-type {\n",
       "        vertical-align: middle;\n",
       "    }\n",
       "\n",
       "    .dataframe tbody tr th {\n",
       "        vertical-align: top;\n",
       "    }\n",
       "\n",
       "    .dataframe thead th {\n",
       "        text-align: right;\n",
       "    }\n",
       "</style>\n",
       "<table border=\"1\" class=\"dataframe\">\n",
       "  <thead>\n",
       "    <tr style=\"text-align: right;\">\n",
       "      <th></th>\n",
       "      <th>0</th>\n",
       "      <th>1</th>\n",
       "      <th>2</th>\n",
       "      <th>3</th>\n",
       "      <th>4</th>\n",
       "      <th>5</th>\n",
       "      <th>6</th>\n",
       "      <th>7</th>\n",
       "      <th>8</th>\n",
       "      <th>9</th>\n",
       "      <th>...</th>\n",
       "      <th>490</th>\n",
       "      <th>491</th>\n",
       "      <th>492</th>\n",
       "      <th>493</th>\n",
       "      <th>494</th>\n",
       "      <th>495</th>\n",
       "      <th>496</th>\n",
       "      <th>497</th>\n",
       "      <th>498</th>\n",
       "      <th>499</th>\n",
       "    </tr>\n",
       "  </thead>\n",
       "  <tbody>\n",
       "    <tr>\n",
       "      <th>0</th>\n",
       "      <td>1.000000</td>\n",
       "      <td>1.000000</td>\n",
       "      <td>1.000000</td>\n",
       "      <td>1.000000</td>\n",
       "      <td>1.000000</td>\n",
       "      <td>1.000000</td>\n",
       "      <td>1.000000</td>\n",
       "      <td>1.000000</td>\n",
       "      <td>1.000000</td>\n",
       "      <td>1.000000</td>\n",
       "      <td>...</td>\n",
       "      <td>1.000000</td>\n",
       "      <td>1.000000</td>\n",
       "      <td>1.000000</td>\n",
       "      <td>1.000000</td>\n",
       "      <td>1.000000</td>\n",
       "      <td>1.000000</td>\n",
       "      <td>1.000000</td>\n",
       "      <td>1.000000</td>\n",
       "      <td>1.000000</td>\n",
       "      <td>1.000000</td>\n",
       "    </tr>\n",
       "    <tr>\n",
       "      <th>1</th>\n",
       "      <td>0.973618</td>\n",
       "      <td>1.034367</td>\n",
       "      <td>0.998791</td>\n",
       "      <td>1.000070</td>\n",
       "      <td>0.974005</td>\n",
       "      <td>0.992016</td>\n",
       "      <td>1.007011</td>\n",
       "      <td>0.979452</td>\n",
       "      <td>1.005856</td>\n",
       "      <td>1.006209</td>\n",
       "      <td>...</td>\n",
       "      <td>1.009601</td>\n",
       "      <td>1.012809</td>\n",
       "      <td>0.985197</td>\n",
       "      <td>0.994067</td>\n",
       "      <td>0.989349</td>\n",
       "      <td>0.979462</td>\n",
       "      <td>1.030057</td>\n",
       "      <td>0.984250</td>\n",
       "      <td>0.986897</td>\n",
       "      <td>0.983593</td>\n",
       "    </tr>\n",
       "    <tr>\n",
       "      <th>2</th>\n",
       "      <td>0.990848</td>\n",
       "      <td>1.029915</td>\n",
       "      <td>1.000931</td>\n",
       "      <td>0.973916</td>\n",
       "      <td>0.976494</td>\n",
       "      <td>1.018090</td>\n",
       "      <td>0.996657</td>\n",
       "      <td>0.966622</td>\n",
       "      <td>1.015257</td>\n",
       "      <td>1.005132</td>\n",
       "      <td>...</td>\n",
       "      <td>1.004549</td>\n",
       "      <td>1.018420</td>\n",
       "      <td>0.990166</td>\n",
       "      <td>0.984838</td>\n",
       "      <td>0.981917</td>\n",
       "      <td>0.971529</td>\n",
       "      <td>1.015844</td>\n",
       "      <td>0.954656</td>\n",
       "      <td>0.966887</td>\n",
       "      <td>0.995255</td>\n",
       "    </tr>\n",
       "    <tr>\n",
       "      <th>3</th>\n",
       "      <td>1.008932</td>\n",
       "      <td>1.030241</td>\n",
       "      <td>0.992703</td>\n",
       "      <td>0.969132</td>\n",
       "      <td>0.980228</td>\n",
       "      <td>1.025587</td>\n",
       "      <td>1.004049</td>\n",
       "      <td>0.974732</td>\n",
       "      <td>1.003667</td>\n",
       "      <td>1.005717</td>\n",
       "      <td>...</td>\n",
       "      <td>0.980662</td>\n",
       "      <td>1.034542</td>\n",
       "      <td>0.979805</td>\n",
       "      <td>0.985040</td>\n",
       "      <td>0.982295</td>\n",
       "      <td>0.988307</td>\n",
       "      <td>1.010904</td>\n",
       "      <td>0.952202</td>\n",
       "      <td>0.968087</td>\n",
       "      <td>0.978838</td>\n",
       "    </tr>\n",
       "    <tr>\n",
       "      <th>4</th>\n",
       "      <td>1.014499</td>\n",
       "      <td>1.031170</td>\n",
       "      <td>0.995357</td>\n",
       "      <td>0.981834</td>\n",
       "      <td>0.983250</td>\n",
       "      <td>1.011131</td>\n",
       "      <td>1.006955</td>\n",
       "      <td>0.987287</td>\n",
       "      <td>1.011196</td>\n",
       "      <td>1.019544</td>\n",
       "      <td>...</td>\n",
       "      <td>0.976050</td>\n",
       "      <td>1.040311</td>\n",
       "      <td>0.982103</td>\n",
       "      <td>0.971926</td>\n",
       "      <td>0.980256</td>\n",
       "      <td>0.996060</td>\n",
       "      <td>1.000504</td>\n",
       "      <td>0.963496</td>\n",
       "      <td>0.981312</td>\n",
       "      <td>0.991208</td>\n",
       "    </tr>\n",
       "    <tr>\n",
       "      <th>...</th>\n",
       "      <td>...</td>\n",
       "      <td>...</td>\n",
       "      <td>...</td>\n",
       "      <td>...</td>\n",
       "      <td>...</td>\n",
       "      <td>...</td>\n",
       "      <td>...</td>\n",
       "      <td>...</td>\n",
       "      <td>...</td>\n",
       "      <td>...</td>\n",
       "      <td>...</td>\n",
       "      <td>...</td>\n",
       "      <td>...</td>\n",
       "      <td>...</td>\n",
       "      <td>...</td>\n",
       "      <td>...</td>\n",
       "      <td>...</td>\n",
       "      <td>...</td>\n",
       "      <td>...</td>\n",
       "      <td>...</td>\n",
       "      <td>...</td>\n",
       "    </tr>\n",
       "    <tr>\n",
       "      <th>2516</th>\n",
       "      <td>2.131644</td>\n",
       "      <td>3.428300</td>\n",
       "      <td>10.989361</td>\n",
       "      <td>1.221151</td>\n",
       "      <td>1.681404</td>\n",
       "      <td>8.526106</td>\n",
       "      <td>1.014421</td>\n",
       "      <td>1.597588</td>\n",
       "      <td>6.692582</td>\n",
       "      <td>1.308404</td>\n",
       "      <td>...</td>\n",
       "      <td>1.212384</td>\n",
       "      <td>1.801076</td>\n",
       "      <td>2.136373</td>\n",
       "      <td>4.056448</td>\n",
       "      <td>2.742404</td>\n",
       "      <td>1.224323</td>\n",
       "      <td>1.781858</td>\n",
       "      <td>1.713544</td>\n",
       "      <td>2.963245</td>\n",
       "      <td>2.864022</td>\n",
       "    </tr>\n",
       "    <tr>\n",
       "      <th>2517</th>\n",
       "      <td>2.135020</td>\n",
       "      <td>3.436930</td>\n",
       "      <td>10.901523</td>\n",
       "      <td>1.236853</td>\n",
       "      <td>1.685581</td>\n",
       "      <td>8.588436</td>\n",
       "      <td>1.019392</td>\n",
       "      <td>1.609573</td>\n",
       "      <td>6.765927</td>\n",
       "      <td>1.308319</td>\n",
       "      <td>...</td>\n",
       "      <td>1.231447</td>\n",
       "      <td>1.787868</td>\n",
       "      <td>2.109458</td>\n",
       "      <td>4.081573</td>\n",
       "      <td>2.702085</td>\n",
       "      <td>1.207713</td>\n",
       "      <td>1.750833</td>\n",
       "      <td>1.713855</td>\n",
       "      <td>2.938020</td>\n",
       "      <td>2.924398</td>\n",
       "    </tr>\n",
       "    <tr>\n",
       "      <th>2518</th>\n",
       "      <td>2.118448</td>\n",
       "      <td>3.431252</td>\n",
       "      <td>10.900986</td>\n",
       "      <td>1.259518</td>\n",
       "      <td>1.686537</td>\n",
       "      <td>8.669571</td>\n",
       "      <td>1.019902</td>\n",
       "      <td>1.612032</td>\n",
       "      <td>6.933404</td>\n",
       "      <td>1.298345</td>\n",
       "      <td>...</td>\n",
       "      <td>1.239396</td>\n",
       "      <td>1.778619</td>\n",
       "      <td>2.117374</td>\n",
       "      <td>4.077913</td>\n",
       "      <td>2.693734</td>\n",
       "      <td>1.230126</td>\n",
       "      <td>1.746428</td>\n",
       "      <td>1.724058</td>\n",
       "      <td>2.981064</td>\n",
       "      <td>2.918020</td>\n",
       "    </tr>\n",
       "    <tr>\n",
       "      <th>2519</th>\n",
       "      <td>2.148609</td>\n",
       "      <td>3.482025</td>\n",
       "      <td>10.968714</td>\n",
       "      <td>1.264981</td>\n",
       "      <td>1.649707</td>\n",
       "      <td>8.842330</td>\n",
       "      <td>1.021944</td>\n",
       "      <td>1.619655</td>\n",
       "      <td>6.916672</td>\n",
       "      <td>1.311209</td>\n",
       "      <td>...</td>\n",
       "      <td>1.263025</td>\n",
       "      <td>1.776639</td>\n",
       "      <td>2.096697</td>\n",
       "      <td>4.096791</td>\n",
       "      <td>2.695151</td>\n",
       "      <td>1.237085</td>\n",
       "      <td>1.713773</td>\n",
       "      <td>1.742521</td>\n",
       "      <td>2.994865</td>\n",
       "      <td>2.900079</td>\n",
       "    </tr>\n",
       "    <tr>\n",
       "      <th>2520</th>\n",
       "      <td>2.131187</td>\n",
       "      <td>3.471810</td>\n",
       "      <td>11.029787</td>\n",
       "      <td>1.286163</td>\n",
       "      <td>1.664471</td>\n",
       "      <td>8.920113</td>\n",
       "      <td>1.029644</td>\n",
       "      <td>1.587252</td>\n",
       "      <td>6.780700</td>\n",
       "      <td>1.310807</td>\n",
       "      <td>...</td>\n",
       "      <td>1.273609</td>\n",
       "      <td>1.824964</td>\n",
       "      <td>2.076768</td>\n",
       "      <td>3.992286</td>\n",
       "      <td>2.745912</td>\n",
       "      <td>1.255798</td>\n",
       "      <td>1.733075</td>\n",
       "      <td>1.698260</td>\n",
       "      <td>3.000922</td>\n",
       "      <td>2.937250</td>\n",
       "    </tr>\n",
       "  </tbody>\n",
       "</table>\n",
       "<p>2521 rows × 500 columns</p>\n",
       "</div>"
      ],
      "text/plain": [
       "           0         1          2         3         4         5         6    \\\n",
       "0     1.000000  1.000000   1.000000  1.000000  1.000000  1.000000  1.000000   \n",
       "1     0.973618  1.034367   0.998791  1.000070  0.974005  0.992016  1.007011   \n",
       "2     0.990848  1.029915   1.000931  0.973916  0.976494  1.018090  0.996657   \n",
       "3     1.008932  1.030241   0.992703  0.969132  0.980228  1.025587  1.004049   \n",
       "4     1.014499  1.031170   0.995357  0.981834  0.983250  1.011131  1.006955   \n",
       "...        ...       ...        ...       ...       ...       ...       ...   \n",
       "2516  2.131644  3.428300  10.989361  1.221151  1.681404  8.526106  1.014421   \n",
       "2517  2.135020  3.436930  10.901523  1.236853  1.685581  8.588436  1.019392   \n",
       "2518  2.118448  3.431252  10.900986  1.259518  1.686537  8.669571  1.019902   \n",
       "2519  2.148609  3.482025  10.968714  1.264981  1.649707  8.842330  1.021944   \n",
       "2520  2.131187  3.471810  11.029787  1.286163  1.664471  8.920113  1.029644   \n",
       "\n",
       "           7         8         9    ...       490       491       492  \\\n",
       "0     1.000000  1.000000  1.000000  ...  1.000000  1.000000  1.000000   \n",
       "1     0.979452  1.005856  1.006209  ...  1.009601  1.012809  0.985197   \n",
       "2     0.966622  1.015257  1.005132  ...  1.004549  1.018420  0.990166   \n",
       "3     0.974732  1.003667  1.005717  ...  0.980662  1.034542  0.979805   \n",
       "4     0.987287  1.011196  1.019544  ...  0.976050  1.040311  0.982103   \n",
       "...        ...       ...       ...  ...       ...       ...       ...   \n",
       "2516  1.597588  6.692582  1.308404  ...  1.212384  1.801076  2.136373   \n",
       "2517  1.609573  6.765927  1.308319  ...  1.231447  1.787868  2.109458   \n",
       "2518  1.612032  6.933404  1.298345  ...  1.239396  1.778619  2.117374   \n",
       "2519  1.619655  6.916672  1.311209  ...  1.263025  1.776639  2.096697   \n",
       "2520  1.587252  6.780700  1.310807  ...  1.273609  1.824964  2.076768   \n",
       "\n",
       "           493       494       495       496       497       498       499  \n",
       "0     1.000000  1.000000  1.000000  1.000000  1.000000  1.000000  1.000000  \n",
       "1     0.994067  0.989349  0.979462  1.030057  0.984250  0.986897  0.983593  \n",
       "2     0.984838  0.981917  0.971529  1.015844  0.954656  0.966887  0.995255  \n",
       "3     0.985040  0.982295  0.988307  1.010904  0.952202  0.968087  0.978838  \n",
       "4     0.971926  0.980256  0.996060  1.000504  0.963496  0.981312  0.991208  \n",
       "...        ...       ...       ...       ...       ...       ...       ...  \n",
       "2516  4.056448  2.742404  1.224323  1.781858  1.713544  2.963245  2.864022  \n",
       "2517  4.081573  2.702085  1.207713  1.750833  1.713855  2.938020  2.924398  \n",
       "2518  4.077913  2.693734  1.230126  1.746428  1.724058  2.981064  2.918020  \n",
       "2519  4.096791  2.695151  1.237085  1.713773  1.742521  2.994865  2.900079  \n",
       "2520  3.992286  2.745912  1.255798  1.733075  1.698260  3.000922  2.937250  \n",
       "\n",
       "[2521 rows x 500 columns]"
      ]
     },
     "execution_count": 85,
     "metadata": {},
     "output_type": "execute_result"
    }
   ],
   "source": [
    "# Run the Monte Carlo simulation to forecast 10 years cumulative returns\n",
    "MC_tenyear.calc_cumulative_return()\n"
   ]
  },
  {
   "cell_type": "code",
   "execution_count": 86,
   "metadata": {},
   "outputs": [
    {
     "data": {
      "image/png": "[encoded data removed]",
      "text/plain": [
       "<Figure size 432x288 with 1 Axes>"
      ]
     },
     "metadata": {
      "needs_background": "light"
     },
     "output_type": "display_data"
    }
   ],
   "source": [
    "# Visualize the 10-year Monte Carlo simulation by creating an\n",
    "# overlay line plot\n",
    "MC_tenyear_line_plot = MC_tenyear.plot_simulation()\n"
   ]
  },
  {
   "cell_type": "code",
   "execution_count": 87,
   "metadata": {},
   "outputs": [
    {
     "data": {
      "image/png": "[encoded data removed]",
      "text/plain": [
       "<Figure size 432x288 with 1 Axes>"
      ]
     },
     "metadata": {
      "needs_background": "light"
     },
     "output_type": "display_data"
    }
   ],
   "source": [
    "# Visualize the probability distribution of the 10-year Monte Carlo simulation \n",
    "# by plotting a histogram\n",
    "MC_tenyear_dist_plot = MC_tenyear.plot_distribution()\n"
   ]
  },
  {
   "cell_type": "code",
   "execution_count": 88,
   "metadata": {},
   "outputs": [
    {
     "name": "stdout",
     "output_type": "stream",
     "text": [
      "count           500.000000\n",
      "mean              3.197884\n",
      "std               2.247517\n",
      "min               0.362007\n",
      "25%               1.728862\n",
      "50%               2.578708\n",
      "75%               3.892219\n",
      "max              19.024963\n",
      "95% CI Lower      0.811925\n",
      "95% CI Upper      9.143804\n",
      "Name: 2520, dtype: float64\n"
     ]
    }
   ],
   "source": [
    "# Generate summary statistics from the 10-year Monte Carlo simulation results\n",
    "# Save the results as a variable\n",
    "MC_tenyear_sum_stats = MC_tenyear.summarize_cumulative_return()\n",
    "\n",
    "\n",
    "# Review the 10-year Monte Carlo summary statistics\n",
    "print(MC_tenyear_sum_stats)"
   ]
  },
  {
   "cell_type": "markdown",
   "metadata": {},
   "source": [
    "### Answer the following questions:"
   ]
  },
  {
   "cell_type": "markdown",
   "metadata": {},
   "source": [
    "#### Question: Using the current value of only the stock and bond portion of the member's portfolio and the summary statistics that you generated from the new Monte Carlo simulation, what are the lower and upper bounds for the expected value of the portfolio (with the new weights) with a 95% confidence interval?"
   ]
  },
  {
   "cell_type": "code",
   "execution_count": 89,
   "metadata": {},
   "outputs": [
    {
     "name": "stdout",
     "output_type": "stream",
     "text": [
      "The total value of the stocks and bonds portofolio is: $ 66313\n"
     ]
    }
   ],
   "source": [
    "# Print the current balance of the stock and bond portion of the members portfolio\n",
    "print(\"The total value of the stocks and bonds portofolio is: $\",(int(total_stocks_bonds)))\n"
   ]
  },
  {
   "cell_type": "code",
   "execution_count": 90,
   "metadata": {},
   "outputs": [
    {
     "name": "stdout",
     "output_type": "stream",
     "text": [
      "There is a 95% chance that the investment of the current value of the stocks and bonds in the portfolio over the next 10 years will end within the range of$ 53841.17 and $ 606353.07.\n"
     ]
    }
   ],
   "source": [
    "# Use the lower and upper `95%` confidence intervals to calculate the range of the possible outcomes for the current stock/bond portfolio\n",
    "ci_lower_ten_cumulative_return = MC_tenyear_sum_stats[8] * int(total_stocks_bonds)\n",
    "ci_upper_ten_cumulative_return = MC_tenyear_sum_stats[9] * int(total_stocks_bonds)\n",
    "\n",
    "# Print the result of your calculations\n",
    "print(f\"There is a 95% chance that the investment of the current value of the stocks and bonds in the portfolio over the next 10 years will end within the range of\"\n",
    "      f\"${ci_lower_ten_cumulative_return: .2f} and ${ci_upper_ten_cumulative_return: .2f}.\")\n"
   ]
  },
  {
   "cell_type": "markdown",
   "metadata": {},
   "source": [
    "#### Question: Will weighting the portfolio more heavily to stocks allow the credit union members to retire after only 10 years?\n",
    "\n",
    "I think that weighing the portfolio mort heavily to stocks will allow the customer to retire after ten years."
   ]
  }
 ],
 "metadata": {
  "kernelspec": {
   "display_name": "dev",
   "language": "python",
   "name": "dev"
  },
  "language_info": {
   "codemirror_mode": {
    "name": "ipython",
    "version": 3
   },
   "file_extension": ".py",
   "mimetype": "text/x-python",
   "name": "python",
   "nbconvert_exporter": "python",
   "pygments_lexer": "ipython3",
   "version": "3.9.7"
  }
 },
 "nbformat": 4,
 "nbformat_minor": 4
}
